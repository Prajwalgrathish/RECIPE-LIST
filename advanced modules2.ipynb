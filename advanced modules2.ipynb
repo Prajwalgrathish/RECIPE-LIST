{
 "cells": [
  {
   "cell_type": "raw",
   "id": "76ce0eff-5d63-4721-9497-9a747a926871",
   "metadata": {},
   "source": [
    "# "
   ]
  },
  {
   "cell_type": "raw",
   "id": "fca0eda3-0302-4751-b563-354eba0ea007",
   "metadata": {},
   "source": [
    "import re\n"
   ]
  },
  {
   "cell_type": "code",
   "execution_count": 2,
   "id": "42f051ce-6b98-4037-b38a-29361732a95b",
   "metadata": {},
   "outputs": [
    {
     "ename": "NameError",
     "evalue": "name 're' is not defined",
     "output_type": "error",
     "traceback": [
      "\u001b[1;31m---------------------------------------------------------------------------\u001b[0m",
      "\u001b[1;31mNameError\u001b[0m                                 Traceback (most recent call last)",
      "Cell \u001b[1;32mIn[2], line 2\u001b[0m\n\u001b[0;32m      1\u001b[0m phrase \u001b[38;5;241m=\u001b[39m \u001b[38;5;124m'\u001b[39m\u001b[38;5;124mathish is, eatin. cg 2 ? chips\u001b[39m\u001b[38;5;124m'\u001b[39m\n\u001b[1;32m----> 2\u001b[0m r \u001b[38;5;241m=\u001b[39m re\u001b[38;5;241m.\u001b[39mfindall(\u001b[38;5;124mr\u001b[39m\u001b[38;5;124m'\u001b[39m\u001b[38;5;124m^a\u001b[39m\u001b[38;5;124m'\u001b[39m,phrase)\n\u001b[0;32m      3\u001b[0m r\n",
      "\u001b[1;31mNameError\u001b[0m: name 're' is not defined"
     ]
    }
   ],
   "source": [
    "phrase = 'athish is, eatin. cg 2 ? chips'\n",
    "r = re.findall(r'^a',phrase)\n",
    "r"
   ]
  },
  {
   "cell_type": "code",
   "execution_count": null,
   "id": "24c91dd3-ec65-43eb-88e7-720fdb840955",
   "metadata": {},
   "outputs": [],
   "source": [
    "p = re.findall(r'$f',phrase)\n",
    "p"
   ]
  },
  {
   "cell_type": "code",
   "execution_count": null,
   "id": "5dc11d3e-5222-462b-ab1b-f948814c45df",
   "metadata": {},
   "outputs": [],
   "source": [
    "r = re.findall(r'[^a]',phrase)\n",
    "r"
   ]
  },
  {
   "cell_type": "code",
   "execution_count": null,
   "id": "44165ea8-1f3e-4faa-ab4f-7ca606cb056c",
   "metadata": {},
   "outputs": [],
   "source": [
    "r = re.findall(r'...a',phrase)\n",
    "r"
   ]
  },
  {
   "cell_type": "code",
   "execution_count": null,
   "id": "1107b37c-c2ed-4e21-81d9-33986c68fab1",
   "metadata": {},
   "outputs": [],
   "source": [
    "r = re.findall(r'at',phrase)\n",
    "r"
   ]
  },
  {
   "cell_type": "code",
   "execution_count": null,
   "id": "bd5e918f-2e20-4bdc-97fb-04cb04b02817",
   "metadata": {},
   "outputs": [],
   "source": [
    "r = re.match(r'at',phrase)\n",
    "r"
   ]
  },
  {
   "cell_type": "code",
   "execution_count": null,
   "id": "b083acd7-5992-43be-aba8-6daf647b3893",
   "metadata": {},
   "outputs": [],
   "source": [
    "r = re.findall(r'[^at]',phrase)\n",
    "r"
   ]
  },
  {
   "cell_type": "code",
   "execution_count": null,
   "id": "8a31b376-ef0d-4c02-bf3e-bd82947a4a4a",
   "metadata": {},
   "outputs": [],
   "source": [
    "phrase = 'athish is, ea-tin. cg ? 2 ch-ips'\n",
    "r = re.search(r'\\d',phrase)\n",
    "r\n",
    "print(re.findall(r'[^dioeth \\d]*',phrase))\n",
    "\n"
   ]
  },
  {
   "cell_type": "code",
   "execution_count": null,
   "id": "707d9261-72d1-4a31-a8cc-a842565f2c35",
   "metadata": {},
   "outputs": [],
   "source": [
    "print(re.findall(r'[^,.?]+',phrase))\n"
   ]
  },
  {
   "cell_type": "code",
   "execution_count": null,
   "id": "39a92d7d-08d3-4748-bf46-5e88a21ba6fb",
   "metadata": {},
   "outputs": [],
   "source": [
    "print(re.findall(r'\\w+-\\w+',phrase))\n"
   ]
  },
  {
   "cell_type": "code",
   "execution_count": null,
   "id": "b7ee70d7-55ce-47ff-a4ad-4a8bf519d682",
   "metadata": {},
   "outputs": [],
   "source": [
    "pwd"
   ]
  },
  {
   "cell_type": "code",
   "execution_count": null,
   "id": "811ec809-9951-45f4-a2d1-e1b79c04a1e6",
   "metadata": {},
   "outputs": [],
   "source": [
    "madfile = open('madfile.txt','w')"
   ]
  },
  {
   "cell_type": "code",
   "execution_count": null,
   "id": "234a31f0-663f-4314-b3df-91232d145139",
   "metadata": {},
   "outputs": [],
   "source": [
    "madfile.write('one piece')"
   ]
  },
  {
   "cell_type": "code",
   "execution_count": null,
   "id": "599f3035-ee5c-4ca9-8464-de4705bc7e6e",
   "metadata": {},
   "outputs": [],
   "source": [
    "madfile.close()                                                                                                                                                                                                                                                                                                                                                                                                                                                                                                                                                                                                                                                                                                                                                                                                                                                                                                                                                                                                                                                                                                                                                                                                                                                                                                                                                                                                                                                                                                                                                                                                                                                                                                                                                                                                                                                                                                                                                                                                                                                                                                                                                                                                                                                                                                                                                                                                                                                                                                                                                                                                                                                                                                                                                                                                                                                                                                                                                                                                                                                                                                                                                                                                                                                                                                                                                                                                                                                                                                                                                                                                                                                                                                                                                                                                                                                                                                                                                                                                                                                                                                                                                                                                                                                                                                                                                                                                                                                                                                                                                                                                                                                                                                                                                                                                                                                                                                                                                                                                                                                                                                                                                                                                                                                                                                                                                                                                                                                                                                                                                                                                                                                                                                                                                                                                                                                                                                                                                                                                                                                                                                                                                                                                                                                                                                                                                                                                                                                                                                                                                                                                                                                                                                                                                                                                                                                                                                                                                                                                                                                                                                                                                                                                                                                                                                                                                                                                                                                                                                                                                                                                                                                                                                                                                                                                                                                                                                                                                                                                                                                                                                                                                                                                                                                                                                                                                                                                                                                                                                                                                                                                                                                                                                                                                                                                                                                                                                                                                                                                                                                                                                                                                                                                                                                                                                                                                                                                                                                                                                                                                                                                                                                                                                                                                                                                                                                                                                                                                                                                                                                                                                                                                                                                                                                                                                                                                                                                                                                                                                                                                                                                                                                                                                                                                                                                                                                                                                           "
   ]
  },
  {
   "cell_type": "code",
   "execution_count": null,
   "id": "4766549b-85b6-4941-9cdd-1c76c75e1fef",
   "metadata": {},
   "outputs": [],
   "source": [
    "import zipfile , zlib"
   ]
  },
  {
   "cell_type": "code",
   "execution_count": null,
   "id": "b9899875-b535-48f0-99da-8db8b4b246ea",
   "metadata": {},
   "outputs": [],
   "source": [
    "madfile2 = open('madfile2.txt','w')\n",
    "madfile2.write('Naruto Uzumaki')\n",
    "madfile2.close()"
   ]
  },
  {
   "cell_type": "code",
   "execution_count": null,
   "id": "09ee9ec7-b969-4356-a9a4-6373dbf640f8",
   "metadata": {},
   "outputs": [],
   "source": [
    "\n",
    "zipn_files008 = zipfile.ZipFile('zipn_files008.zip','w')"
   ]
  },
  {
   "cell_type": "code",
   "execution_count": null,
   "id": "e3a634b1-cca4-4ff3-b88e-1dd720ea1160",
   "metadata": {},
   "outputs": [],
   "source": [
    "zipn1 = zipfile.ZipFile('file', 'w')"
   ]
  },
  {
   "cell_type": "code",
   "execution_count": null,
   "id": "3b00964d-4912-41f4-8685-96951bd61396",
   "metadata": {},
   "outputs": [],
   "source": [
    "zipn2 = zipfile.ZipFile('file2', 'w')"
   ]
  },
  {
   "cell_type": "code",
   "execution_count": null,
   "id": "ffd66ff1-bca3-4314-9d0b-fec1f22baf66",
   "metadata": {},
   "outputs": [],
   "source": [
    "zipn_files008.write('madfile.txt',compress_type= zipfile.ZIP_DEFLATED)\n",
    "zipn_files008.write('madfile2.txt',compress_type= zipfile.ZIP_DEFLATED)"
   ]
  },
  {
   "cell_type": "code",
   "execution_count": null,
   "id": "824000d7-6c80-4b77-8431-36d3e0a399cd",
   "metadata": {},
   "outputs": [],
   "source": [
    "zipn_files008.close()"
   ]
  },
  {
   "cell_type": "code",
   "execution_count": null,
   "id": "7e8c3f02-6228-47eb-89ef-470e5a005cb6",
   "metadata": {},
   "outputs": [],
   "source": [
    "zip_ob = zipfile.ZipFile('zipn_files008.zip','r')"
   ]
  },
  {
   "cell_type": "code",
   "execution_count": null,
   "id": "86431c59-4bff-4ce5-8a1d-f24c5ad1df82",
   "metadata": {},
   "outputs": [],
   "source": []
  },
  {
   "cell_type": "code",
   "execution_count": null,
   "id": "1591541f-c5f5-430c-9ab9-b94a4195f5bb",
   "metadata": {},
   "outputs": [],
   "source": [
    "zip_ob.extractall('extractcontent')\n"
   ]
  },
  {
   "cell_type": "code",
   "execution_count": null,
   "id": "9617a065-0080-459c-8efb-e7d0b338f8a2",
   "metadata": {},
   "outputs": [],
   "source": [
    "import zipfile\n",
    "\n",
    "print(zipfile.is_zipfile(\"zipn_files007.zip\"))"
   ]
  },
  {
   "cell_type": "code",
   "execution_count": null,
   "id": "f5f5bc25-8157-49e4-886d-f9b3d6df3d3f",
   "metadata": {},
   "outputs": [],
   "source": [
    "extractcontent = zipfile.ZipFile('extractcontent')"
   ]
  },
  {
   "cell_type": "code",
   "execution_count": null,
   "id": "257a9970-db8d-46c3-b4d4-ed69f69213f1",
   "metadata": {},
   "outputs": [],
   "source": [
    "import shutil\n",
    "root='C:\\\\Users\\\\sampa\\\\python learning folder\\\\extractcontent'"
   ]
  },
  {
   "cell_type": "code",
   "execution_count": null,
   "id": "b47ca19e-2d40-4942-a5b6-2b2b442b2769",
   "metadata": {},
   "outputs": [],
   "source": [
    "shutil.make_archive('example','zip',root)"
   ]
  },
  {
   "cell_type": "code",
   "execution_count": null,
   "id": "da3c875a-b13d-42bf-94c9-0378b492ef42",
   "metadata": {},
   "outputs": [],
   "source": [
    "shutil.unpack_archive('example.zip',format='zip',extract_dir = 'final_extract')"
   ]
  },
  {
   "cell_type": "code",
   "execution_count": null,
   "id": "7b1d2168-7e4b-48eb-b1e2-fd33ffffbc63",
   "metadata": {},
   "outputs": [],
   "source": [
    "zip_obj = zipfile.ZipFile('unzip_me_for_instructions.zip','r')"
   ]
  },
  {
   "cell_type": "code",
   "execution_count": null,
   "id": "b3e8a2d6-6e85-4472-bbf3-0fac1774427c",
   "metadata": {},
   "outputs": [],
   "source": [
    "zip_obj.extractall('instruc')"
   ]
  },
  {
   "cell_type": "code",
   "execution_count": null,
   "id": "a992b1e6-9eb0-435e-b6c0-f3709b590cd9",
   "metadata": {},
   "outputs": [],
   "source": [
    "import re"
   ]
  },
  {
   "cell_type": "code",
   "execution_count": null,
   "id": "5cfb7bfc-98d9-4ac6-afc4-501e87c82639",
   "metadata": {},
   "outputs": [],
   "source": [
    "rooot = 'C:\\\\Users\\\\sampa\\\\python learning folder\\\\instruc\\\\extracted_content\\\\Three'"
   ]
  },
  {
   "cell_type": "code",
   "execution_count": null,
   "id": "961a571d-4de6-4578-920f-32f3bf4cce55",
   "metadata": {},
   "outputs": [],
   "source": [
    "phrase = root"
   ]
  },
  {
   "cell_type": "code",
   "execution_count": null,
   "id": "05a247b3-6cb0-4e24-bd4c-6e4c483c6a0d",
   "metadata": {},
   "outputs": [],
   "source": []
  },
  {
   "cell_type": "code",
   "execution_count": null,
   "id": "55cebbec-e718-4b01-951d-34103e19d79c",
   "metadata": {},
   "outputs": [],
   "source": [
    "re.findall(r'\\d{3}-\\d{3}-\\d{4}',phrase)\n",
    "import os"
   ]
  },
  {
   "cell_type": "code",
   "execution_count": null,
   "id": "12ab6690-ca9e-4148-b42e-a2a96486bb78",
   "metadata": {},
   "outputs": [],
   "source": [
    "def search (file,pattern=r'\\d{3}-\\d{3}-\\d{4}'):\n",
    "    f=open(file,'r')\n",
    "    text=f.read()\n",
    "\n",
    "    if re.search(pattern,text):\n",
    "        return re.search(pattern,text)\n",
    "    else:\n",
    "        return ''\n",
    "        "
   ]
  },
  {
   "cell_type": "code",
   "execution_count": null,
   "id": "af11858f-45b7-4054-a31e-2f722ed32d05",
   "metadata": {},
   "outputs": [],
   "source": [
    "root= 'C:\\\\Users\\\\sampa\\\\python learning folder\\\\instruc\\\\extracted_content'\n",
    "results= []"
   ]
  },
  {
   "cell_type": "code",
   "execution_count": null,
   "id": "b6a85f47-6791-4b3b-b887-c6b865b32039",
   "metadata": {},
   "outputs": [],
   "source": [
    "for folders,subfolders,files in os.walk(root):\n",
    "    \n",
    "    \n",
    "    for fi in files:\n",
    "        fullpath= folders+'\\\\'+fi\n",
    "        \n",
    "       \n",
    "        f=open(fullpath,'r')\n",
    "        text=f.read()\n",
    "        e = re.findall(r'\\d{3}-\\d{3}-\\d{4}',text)\n",
    "       \n",
    "        print(e)"
   ]
  },
  {
   "cell_type": "code",
   "execution_count": null,
   "id": "73e10cd9-5528-475d-b009-7f166ef9bb03",
   "metadata": {},
   "outputs": [],
   "source": [
    " for r in results:\n",
    "     if r!='':\n",
    "         print(r.group())"
   ]
  },
  {
   "cell_type": "code",
   "execution_count": null,
   "id": "9ff6f1d4-269c-4acd-a798-cb4f78522e18",
   "metadata": {},
   "outputs": [],
   "source": [
    "from PIL import Image"
   ]
  },
  {
   "cell_type": "code",
   "execution_count": null,
   "id": "40a3cdc2-8ff7-4946-817a-9868ef06e2bd",
   "metadata": {},
   "outputs": [],
   "source": [
    "mask = Image.open('mask.png')"
   ]
  },
  {
   "cell_type": "code",
   "execution_count": null,
   "id": "1e126e4a-181b-47fc-92ac-6022820b6c36",
   "metadata": {},
   "outputs": [],
   "source": [
    "mask"
   ]
  },
  {
   "cell_type": "code",
   "execution_count": null,
   "id": "b9a13c4d-8c41-4398-b715-3f285e4c35b7",
   "metadata": {},
   "outputs": [],
   "source": [
    "mou = Image.open('medium1.jpg')"
   ]
  },
  {
   "cell_type": "code",
   "execution_count": null,
   "id": "c939e41f-fd11-4099-b262-869ac8ffec47",
   "metadata": {},
   "outputs": [],
   "source": [
    "mou"
   ]
  },
  {
   "cell_type": "code",
   "execution_count": null,
   "id": "cc72ac18-ec92-4b70-8afb-b03fe710267b",
   "metadata": {},
   "outputs": [],
   "source": [
    "mou.size"
   ]
  },
  {
   "cell_type": "code",
   "execution_count": null,
   "id": "991d5838-9644-42af-9842-7358c0c249e5",
   "metadata": {},
   "outputs": [],
   "source": [
    "x = 40\n",
    "w = 210\n",
    "\n",
    "y = 10\n",
    "h = 135\n",
    "\n",
    "out = mou.crop((x,y,w,h))\n",
    "out"
   ]
  },
  {
   "cell_type": "code",
   "execution_count": null,
   "id": "c9cd45df-1abc-4422-9c91-53ebc2268ab9",
   "metadata": {},
   "outputs": [],
   "source": [
    "mou.paste(im=out,box=(0,0),mask=out)\n",
    "mou"
   ]
  },
  {
   "cell_type": "code",
   "execution_count": null,
   "id": "a337780e-7b30-4357-bae6-a2a3073b33b9",
   "metadata": {},
   "outputs": [],
   "source": [
    "brush = Image.open('hard 5.webp')\n",
    "out = out.convert('L')"
   ]
  },
  {
   "cell_type": "code",
   "execution_count": null,
   "id": "12d3e3f0-19ee-4c1e-ad58-7c2f4ac4d648",
   "metadata": {},
   "outputs": [],
   "source": [
    "brush.paste(im=out,box=(0,0))\n",
    "brush.putalpha(100)\n",
    "brush"
   ]
  },
  {
   "cell_type": "code",
   "execution_count": null,
   "id": "1c32e944-06ff-47de-9281-78997c20ff05",
   "metadata": {},
   "outputs": [],
   "source": [
    "word = Image.open('word_matrix.png')\n",
    "word"
   ]
  },
  {
   "cell_type": "code",
   "execution_count": null,
   "id": "9895c6db-7358-4fbe-b73f-dc64e8ce6528",
   "metadata": {},
   "outputs": [],
   "source": [
    "word.putalpha(100)\n",
    "word"
   ]
  },
  {
   "cell_type": "code",
   "execution_count": null,
   "id": "0be0dfe7-71d8-438d-89a2-603931ed23ec",
   "metadata": {},
   "outputs": [],
   "source": [
    "wor"
   ]
  },
  {
   "cell_type": "code",
   "execution_count": null,
   "id": "b57c66db-9390-4bd4-9357-0da87007241d",
   "metadata": {},
   "outputs": [],
   "source": [
    "new_mask = mask.resize((1015, 559))\n",
    "\n",
    "\n",
    "new_mask"
   ]
  },
  {
   "cell_type": "code",
   "execution_count": null,
   "id": "e5450ffb-66e4-4c41-9e85-3aec94b1b2f2",
   "metadata": {},
   "outputs": [],
   "source": [
    "new_mask.putalpha(200)\n",
    "new_mask"
   ]
  },
  {
   "cell_type": "code",
   "execution_count": null,
   "id": "d11c60cf-ef2b-4ce7-ab7f-d84eabcd35fa",
   "metadata": {},
   "outputs": [],
   "source": [
    "new_mask.paste(im=word,box=(0,0),mask=word)\n",
    "new_mask"
   ]
  },
  {
   "cell_type": "code",
   "execution_count": null,
   "id": "786eacf1-0950-4a2c-9c20-2f4b04f1b9da",
   "metadata": {},
   "outputs": [],
   "source": [
    "\n",
    "\n",
    "word.paste(im=new_mask,box=(0,0))\n",
    "word"
   ]
  },
  {
   "cell_type": "code",
   "execution_count": null,
   "id": "0ac064f3-0c93-418a-8b43-f200dd7a0f38",
   "metadata": {
    "scrolled": true
   },
   "outputs": [],
   "source": [
    "help(Image)"
   ]
  },
  {
   "cell_type": "code",
   "execution_count": null,
   "id": "9b649ed8-1624-40cb-bc9d-47a648e8da69",
   "metadata": {},
   "outputs": [],
   "source": [
    "new_mask.paste(im=word,box=(0,0),mask=word)\n",
    "new_mask"
   ]
  },
  {
   "cell_type": "code",
   "execution_count": null,
   "id": "54e391a9-570e-46db-8028-ff1cfa411c85",
   "metadata": {},
   "outputs": [],
   "source": [
    "new_mask.getbands()"
   ]
  },
  {
   "cell_type": "code",
   "execution_count": null,
   "id": "59a2d2c8-c5ae-4a3b-9037-06fbeeb3569e",
   "metadata": {},
   "outputs": [],
   "source": [
    " n =ImageEnhance.Brightness(new_mask)"
   ]
  },
  {
   "cell_type": "code",
   "execution_count": null,
   "id": "a09c067c-36b4-425e-af5a-53d7e109e3bd",
   "metadata": {},
   "outputs": [],
   "source": [
    "word.paste(im=mask,box=(0,0))"
   ]
  },
  {
   "cell_type": "code",
   "execution_count": null,
   "id": "a4132df3-a76f-4cbd-8311-d9bc7b273e9a",
   "metadata": {},
   "outputs": [],
   "source": [
    "new_mask.putalpha(0)\n",
    "new_mask"
   ]
  },
  {
   "cell_type": "code",
   "execution_count": null,
   "id": "1c03647d-1909-427a-8e7d-4b9e00ae4a6d",
   "metadata": {},
   "outputs": [],
   "source": []
  },
  {
   "cell_type": "raw",
   "id": "b7a82f5b-2d8d-4ed6-91df-5d619a3fef5a",
   "metadata": {},
   "source": [
    "CSV   - Comma seperated values"
   ]
  },
  {
   "cell_type": "code",
   "execution_count": null,
   "id": "e6c3ea78-0a44-479e-a452-7feb6e166ca6",
   "metadata": {},
   "outputs": [],
   "source": [
    "import csv"
   ]
  },
  {
   "cell_type": "code",
   "execution_count": null,
   "id": "50c4d4dd-adf9-4c6c-8acd-23615c11f572",
   "metadata": {},
   "outputs": [],
   "source": [
    "data = open('people-100.csv','r',encoding='utf-8')"
   ]
  },
  {
   "cell_type": "code",
   "execution_count": null,
   "id": "1a643e60-8b72-427c-b472-c84683fa4463",
   "metadata": {},
   "outputs": [],
   "source": [
    "csv_reader = csv.reader(data)"
   ]
  },
  {
   "cell_type": "code",
   "execution_count": null,
   "id": "77d88890-5673-4ef6-9f33-ae14dc76f2c0",
   "metadata": {},
   "outputs": [],
   "source": [
    "listt = list(csv_reader)"
   ]
  },
  {
   "cell_type": "code",
   "execution_count": null,
   "id": "67071d32-15f1-407c-9be6-01026b2eec88",
   "metadata": {
    "scrolled": true
   },
   "outputs": [],
   "source": [
    "listt"
   ]
  },
  {
   "cell_type": "code",
   "execution_count": null,
   "id": "5c64173c-5590-402c-8d52-32232148a7e6",
   "metadata": {},
   "outputs": [],
   "source": [
    "listt[10]"
   ]
  },
  {
   "cell_type": "code",
   "execution_count": null,
   "id": "fcea039b-9d57-4aff-959f-9e39503efda8",
   "metadata": {},
   "outputs": [],
   "source": [
    "data = open('people-100.csv',encoding='utf-8')"
   ]
  },
  {
   "cell_type": "code",
   "execution_count": null,
   "id": "46bc6322-53a5-4d69-94fe-231df194aa2a",
   "metadata": {},
   "outputs": [],
   "source": [
    "people_csv = csv.reader(data)"
   ]
  },
  {
   "cell_type": "code",
   "execution_count": null,
   "id": "caa83571-a367-4b48-9e3b-078e9e65e74b",
   "metadata": {},
   "outputs": [],
   "source": [
    "data = list(people_csv)"
   ]
  },
  {
   "cell_type": "code",
   "execution_count": null,
   "id": "3ce94448-36c7-41b6-a1cf-0f7962fb5024",
   "metadata": {},
   "outputs": [],
   "source": [
    "data[0]"
   ]
  },
  {
   "cell_type": "code",
   "execution_count": null,
   "id": "82b59813-1503-44d8-b657-4fb519291069",
   "metadata": {},
   "outputs": [],
   "source": [
    "email=[]"
   ]
  },
  {
   "cell_type": "code",
   "execution_count": null,
   "id": "e57ee9ab-bac4-4f2b-96cc-bc87e1670d72",
   "metadata": {},
   "outputs": [],
   "source": [
    "\n",
    "for d in data[:]:\n",
    "    email.append(d[5])"
   ]
  },
  {
   "cell_type": "code",
   "execution_count": null,
   "id": "c54583b0-d699-4d94-aaac-5be8dfb5c2f4",
   "metadata": {
    "scrolled": true
   },
   "outputs": [],
   "source": [
    "email"
   ]
  },
  {
   "cell_type": "code",
   "execution_count": null,
   "id": "bb9b621d-606c-4951-917b-1cf928b2ae3f",
   "metadata": {},
   "outputs": [],
   "source": [
    "write_mode = open('to_save_file.csv','w',newline='',encoding='utf-8')\n",
    "csv_writer = csv.writer(write_mode)\n"
   ]
  },
  {
   "cell_type": "code",
   "execution_count": null,
   "id": "876a2442-051e-49d8-a389-89183c7623ab",
   "metadata": {},
   "outputs": [],
   "source": [
    "csv_writer.writerows(['i','wwee','the'])"
   ]
  },
  {
   "cell_type": "code",
   "execution_count": null,
   "id": "3c3c6227-cf1e-4282-af7f-c7662f60c9b1",
   "metadata": {},
   "outputs": [],
   "source": [
    "import csv"
   ]
  },
  {
   "cell_type": "code",
   "execution_count": null,
   "id": "a1ed369b-24e3-4242-b4d2-d74ec037d8f5",
   "metadata": {},
   "outputs": [],
   "source": [
    "data=open('find_the_link.csv','r',encoding='utf-8')"
   ]
  },
  {
   "cell_type": "code",
   "execution_count": null,
   "id": "5e3ec00c-56b6-45dc-a649-8efcb8c08afa",
   "metadata": {},
   "outputs": [],
   "source": [
    "csv_read=csv.reader(data)\n"
   ]
  },
  {
   "cell_type": "code",
   "execution_count": null,
   "id": "58232780-6a33-42eb-878d-19264ea0d915",
   "metadata": {},
   "outputs": [],
   "source": [
    "data_list=list(csv_read)"
   ]
  },
  {
   "cell_type": "code",
   "execution_count": null,
   "id": "59292cc1-6944-431a-adb9-794b95ef6d9a",
   "metadata": {},
   "outputs": [],
   "source": [
    "link=[]\n",
    "b=0\n",
    "n=0\n",
    "for d in data_list[:]:\n",
    "    \n",
    "    link.append(data_list[b][n])\n",
    "    n=n+1\n",
    "    b=b+1"
   ]
  },
  {
   "cell_type": "code",
   "execution_count": null,
   "id": "eff1e102-a45f-4616-b92d-358fde2fe9c4",
   "metadata": {},
   "outputs": [],
   "source": [
    "e = ''.join(link)\n",
    "import re\n",
    "len(pdf_reader.pages)\n",
    "first_page = pdf_reader.pages[0]"
   ]
  },
  {
   "cell_type": "code",
   "execution_count": null,
   "id": "2057b46b-309c-4195-8071-dd8852e1ecc0",
   "metadata": {},
   "outputs": [],
   "source": [
    "import PyPDF2\n",
    "\n",
    "pdf_file = open('Find_the_Phone_Number.pdf','rb')\n",
    "\n",
    "pdf_reader = PyPDF2.PdfReader(pdf_file)\n",
    "for n in range(17):\n",
    "    text = pdf_reader.pages[n].extract_text()\n",
    "    match = re.findall(r'\\d{3}.........',text)\n",
    "    print(match)\n",
    "    \n"
   ]
  },
  {
   "cell_type": "code",
   "execution_count": null,
   "id": "ee12122b-a99d-47dc-b4dc-f72abbfd207c",
   "metadata": {},
   "outputs": [],
   "source": [
    "pdf_reader.pages[0].extract_text()"
   ]
  },
  {
   "cell_type": "code",
   "execution_count": null,
   "id": "e493e1bd-5402-4950-932b-f9ae403e51df",
   "metadata": {},
   "outputs": [],
   "source": []
  },
  {
   "cell_type": "code",
   "execution_count": null,
   "id": "a30fc0e6-caf8-4358-8e46-5daa535082c8",
   "metadata": {},
   "outputs": [],
   "source": [
    "r = 'hello 332-333-5555'\n",
    "m = re.search(r'\\d{3}-\\d{3}-\\d{4}',r)\n"
   ]
  },
  {
   "cell_type": "code",
   "execution_count": null,
   "id": "d8d9cbd6-286d-4e5e-acfc-5c7418983100",
   "metadata": {},
   "outputs": [],
   "source": [
    "import smtplib"
   ]
  },
  {
   "cell_type": "code",
   "execution_count": null,
   "id": "920b8603-bed8-4edb-a9a4-449e1bcd1f49",
   "metadata": {},
   "outputs": [],
   "source": [
    "smtp_obj = smtplib.SMTP('smtp.gmail.com',587)"
   ]
  },
  {
   "cell_type": "code",
   "execution_count": null,
   "id": "eb28f7f6-44f4-4f0d-ae27-8858bcb013c8",
   "metadata": {},
   "outputs": [],
   "source": [
    "smtp_obj.ehlo()"
   ]
  },
  {
   "cell_type": "code",
   "execution_count": null,
   "id": "92404dac-6cc8-4df9-9e8d-bb968aa2dcc2",
   "metadata": {},
   "outputs": [],
   "source": [
    "smtp_obj.starttls()"
   ]
  },
  {
   "cell_type": "code",
   "execution_count": null,
   "id": "9a534784-a6bb-411b-940e-8fc8a7937efd",
   "metadata": {},
   "outputs": [],
   "source": [
    "import getpass\n",
    "email = getpass.getpass('Email: ')\n",
    "password = getpass.getpass('password: ')\n",
    "smtp_obj.login(email,password)"
   ]
  },
  {
   "cell_type": "code",
   "execution_count": null,
   "id": "0bc073c9-8464-4a27-8bb0-dbfd1b965cef",
   "metadata": {},
   "outputs": [],
   "source": []
  },
  {
   "cell_type": "code",
   "execution_count": null,
   "id": "68ee31c1-260d-4f0d-8a6e-2d1f84881f37",
   "metadata": {},
   "outputs": [],
   "source": [
    "from_address = email\n",
    "to_address = email\n",
    "message = 'Subject : about my leave letter \\n\\n Message = i am taking a leave on 4th aug for a trip'\n",
    "smtp_obj.sendmail(from_address, to_address,message)"
   ]
  },
  {
   "cell_type": "code",
   "execution_count": null,
   "id": "68fb0752-7363-4276-b76c-b0b3b59e08b6",
   "metadata": {},
   "outputs": [],
   "source": [
    "import imaplib"
   ]
  },
  {
   "cell_type": "code",
   "execution_count": null,
   "id": "a3a37f29-2754-42fa-b7c7-12e7ac926386",
   "metadata": {},
   "outputs": [],
   "source": [
    "imap_obj= imaplib.IMAP4_SSL('imap.gmail.com')"
   ]
  },
  {
   "cell_type": "code",
   "execution_count": null,
   "id": "c96217d1-4234-4505-b663-4ce94f08d9b9",
   "metadata": {},
   "outputs": [],
   "source": [
    "import getpass\n",
    "email = getpass.getpass('Email: ')\n",
    "password = getpass.getpass('password: ')\n",
    "imap_obj.login(email,password)"
   ]
  },
  {
   "cell_type": "code",
   "execution_count": null,
   "id": "dbafca84-2c57-4aa8-9b7e-6b87cd5f58a8",
   "metadata": {},
   "outputs": [],
   "source": [
    "imap_obj.list()"
   ]
  },
  {
   "cell_type": "code",
   "execution_count": null,
   "id": "38588626-0a39-4e30-8a1a-b02cc384eb35",
   "metadata": {},
   "outputs": [],
   "source": [
    "imap_obj.select('INBOX')"
   ]
  },
  {
   "cell_type": "code",
   "execution_count": null,
   "id": "ab7b3b38-f0c5-4713-8415-2d7f90dbaefc",
   "metadata": {},
   "outputs": [],
   "source": [
    "typ,data = imap_obj.search(None,'Subject','leave')"
   ]
  },
  {
   "cell_type": "code",
   "execution_count": null,
   "id": "4d9fcb77-d36a-44f9-977f-139237269394",
   "metadata": {},
   "outputs": [],
   "source": [
    "data"
   ]
  },
  {
   "cell_type": "code",
   "execution_count": null,
   "id": "6ecf4118-9f00-49ef-ae14-897ffbc0a3fe",
   "metadata": {},
   "outputs": [],
   "source": [
    "email_id = data[0]\n",
    "email_id"
   ]
  },
  {
   "cell_type": "code",
   "execution_count": null,
   "id": "18f17e3a-a308-4de0-980a-d12cfba3a6b1",
   "metadata": {},
   "outputs": [],
   "source": [
    "\n",
    "res , email_data=imap_obj.fetch(email_id,'(RFC822)')"
   ]
  },
  {
   "cell_type": "code",
   "execution_count": null,
   "id": "1d6f5088-2103-4682-8b21-d40eb4b1c26a",
   "metadata": {},
   "outputs": [],
   "source": [
    "raw_email = email_data[0][1]\n"
   ]
  },
  {
   "cell_type": "code",
   "execution_count": null,
   "id": "734b96c2-6e4b-4ade-ae1f-28edac472d09",
   "metadata": {},
   "outputs": [],
   "source": [
    "pip install mail-parser\n"
   ]
  },
  {
   "cell_type": "code",
   "execution_count": null,
   "id": "2ef84c24-1035-4d14-8bf6-cf3fc00ceb3d",
   "metadata": {},
   "outputs": [],
   "source": [
    "import mailparser"
   ]
  },
  {
   "cell_type": "code",
   "execution_count": null,
   "id": "497e58e8-7f21-440b-8c39-bbf98b8bcaad",
   "metadata": {},
   "outputs": [],
   "source": [
    "email= mailparser.parse_from_bytes(raw_email)"
   ]
  },
  {
   "cell_type": "code",
   "execution_count": null,
   "id": "4c1c1f0f-ba0a-4a29-902a-31ae5763a114",
   "metadata": {},
   "outputs": [],
   "source": [
    "email.headers"
   ]
  },
  {
   "cell_type": "code",
   "execution_count": null,
   "id": "8e87ed92-3d09-4e43-8174-21f41f704593",
   "metadata": {},
   "outputs": [],
   "source": [
    "email.text_plain"
   ]
  },
  {
   "cell_type": "code",
   "execution_count": null,
   "id": "36927f5e-5482-4d36-8318-923a107857c0",
   "metadata": {},
   "outputs": [],
   "source": [
    "athishprajwalgr@gmail.com\n",
    "hvdh frjq ohcb xasl"
   ]
  },
  {
   "cell_type": "code",
   "execution_count": null,
   "id": "d05d37cf-6a5c-4695-afad-6453a4b1dc61",
   "metadata": {},
   "outputs": [],
   "source": []
  },
  {
   "cell_type": "code",
   "execution_count": null,
   "id": "698ed3e5-56c8-4f0e-bc71-bd789b9d1cb4",
   "metadata": {},
   "outputs": [],
   "source": []
  },
  {
   "cell_type": "code",
   "execution_count": null,
   "id": "6b924158-593d-4d78-af01-47c7e9832392",
   "metadata": {},
   "outputs": [],
   "source": []
  },
  {
   "cell_type": "code",
   "execution_count": null,
   "id": "2d440c60-ba18-40be-850c-3805399840fc",
   "metadata": {},
   "outputs": [],
   "source": []
  },
  {
   "cell_type": "code",
   "execution_count": null,
   "id": "eccf34d7-1718-4468-8107-f2fa3c9f821e",
   "metadata": {},
   "outputs": [],
   "source": []
  },
  {
   "cell_type": "code",
   "execution_count": null,
   "id": "0aefc9ed-757d-47ad-96e9-8bb1a28079d1",
   "metadata": {},
   "outputs": [],
   "source": []
  },
  {
   "cell_type": "code",
   "execution_count": null,
   "id": "dc367bdf-1781-4313-af67-9aea460b7e72",
   "metadata": {},
   "outputs": [],
   "source": []
  },
  {
   "cell_type": "code",
   "execution_count": null,
   "id": "3e716c88-26ff-47ab-a701-7a0a285a897b",
   "metadata": {},
   "outputs": [],
   "source": []
  },
  {
   "cell_type": "code",
   "execution_count": null,
   "id": "fe1530fe-8ddf-4d23-bf68-2b06a6564ec5",
   "metadata": {},
   "outputs": [],
   "source": []
  },
  {
   "cell_type": "code",
   "execution_count": null,
   "id": "079d3cbe-55eb-4e96-9178-5d45761c53ad",
   "metadata": {},
   "outputs": [],
   "source": []
  },
  {
   "cell_type": "code",
   "execution_count": null,
   "id": "82a0fe38-b561-4d29-b695-4b398c747a8c",
   "metadata": {},
   "outputs": [],
   "source": []
  },
  {
   "cell_type": "code",
   "execution_count": null,
   "id": "b78e1395-6a52-49dc-867e-827094b71410",
   "metadata": {},
   "outputs": [],
   "source": [
    "athishprajwalgr@gmail.com"
   ]
  },
  {
   "cell_type": "code",
   "execution_count": null,
   "id": "45027207-4026-4bd5-a11d-4ceb5da5638e",
   "metadata": {},
   "outputs": [],
   "source": [
    "import imaplib"
   ]
  },
  {
   "cell_type": "code",
   "execution_count": null,
   "id": "8f3cc1db-40aa-4bfd-aad0-0a0985623621",
   "metadata": {},
   "outputs": [],
   "source": [
    "imap_obj = imaplib.IMAP4_SSL('imap.gmail.com')"
   ]
  },
  {
   "cell_type": "code",
   "execution_count": null,
   "id": "5b922585-9dbe-4a0a-8b35-61b2d6febff9",
   "metadata": {},
   "outputs": [],
   "source": [
    "import getpass\n",
    "email = getpass.getpass('email: ')\n",
    "password = getpass.getpass('password: ')\n",
    "imap_obj.login(email,password)"
   ]
  },
  {
   "cell_type": "code",
   "execution_count": null,
   "id": "076ff2f4-8a76-4bb0-ae4e-2ca1c8e232b3",
   "metadata": {},
   "outputs": [],
   "source": [
    "imap_obj.list()"
   ]
  },
  {
   "cell_type": "code",
   "execution_count": null,
   "id": "1ba5646c-e416-4ac8-84cb-7434e00bbff7",
   "metadata": {},
   "outputs": [],
   "source": [
    "imap_obj.select('Inbox')"
   ]
  },
  {
   "cell_type": "code",
   "execution_count": null,
   "id": "7c676b56-2044-4771-ac86-d182e3e86de0",
   "metadata": {},
   "outputs": [],
   "source": [
    "tpy , email = imap_obj.search(None,'SUBJECT','letter')"
   ]
  },
  {
   "cell_type": "code",
   "execution_count": null,
   "id": "02a6d5d6-9f5d-47e6-8e94-57fb07709710",
   "metadata": {},
   "outputs": [],
   "source": [
    "email"
   ]
  },
  {
   "cell_type": "code",
   "execution_count": null,
   "id": "38f843dc-cdec-43b6-b175-ccd5f5f172f4",
   "metadata": {},
   "outputs": [],
   "source": [
    "resu , email_data = imap_obj.fetch(b'4060','(RFC822)')"
   ]
  },
  {
   "cell_type": "code",
   "execution_count": null,
   "id": "6e67cb6f-5285-45ea-8d2a-43b6b729c85b",
   "metadata": {},
   "outputs": [],
   "source": []
  },
  {
   "cell_type": "code",
   "execution_count": null,
   "id": "9b7ba40c-f2a2-40e4-9222-fadc6e6651b4",
   "metadata": {},
   "outputs": [],
   "source": [
    "import mailparser"
   ]
  },
  {
   "cell_type": "code",
   "execution_count": null,
   "id": "bb2fe60e-3ab7-46fd-9062-cc34228b3dad",
   "metadata": {},
   "outputs": [],
   "source": [
    "raw_email = mailparser.parse_from_bytes(raw)"
   ]
  },
  {
   "cell_type": "code",
   "execution_count": null,
   "id": "1bc52120-6d57-454a-ab17-9553b0e6cad8",
   "metadata": {},
   "outputs": [],
   "source": []
  },
  {
   "cell_type": "code",
   "execution_count": null,
   "id": "51d4a40d-a1af-4130-8ff0-6c30a3790cf6",
   "metadata": {},
   "outputs": [],
   "source": [
    "from ipywidgets import interactive, interact , fixed"
   ]
  },
  {
   "cell_type": "code",
   "execution_count": null,
   "id": "51ee85b3-bee1-43f3-9102-2a5ff0b9fcf1",
   "metadata": {},
   "outputs": [],
   "source": [
    "import ipywidgets as widgets"
   ]
  },
  {
   "cell_type": "code",
   "execution_count": null,
   "id": "73540836-2205-4c95-b6e5-be7e42ef1e39",
   "metadata": {},
   "outputs": [],
   "source": [
    "def func(x):\n",
    "    return x"
   ]
  },
  {
   "cell_type": "code",
   "execution_count": null,
   "id": "7e03b9f4-c3eb-4f38-a49a-09e98415ad0f",
   "metadata": {},
   "outputs": [],
   "source": [
    "interact(func,x=(-100,1000,100))"
   ]
  },
  {
   "cell_type": "code",
   "execution_count": null,
   "id": "46773586-cb34-4194-ab46-1fdc1305dd88",
   "metadata": {},
   "outputs": [],
   "source": [
    "interact(func,x=['hello','Ballerina','ana de armas'])"
   ]
  },
  {
   "cell_type": "code",
   "execution_count": null,
   "id": "ddb15d34-9da4-4ff3-97d3-5eacc311dad9",
   "metadata": {},
   "outputs": [],
   "source": [
    "@interact(x=100,y=100)\n",
    "def f(x,y):\n",
    "    return (x,y,x+y)"
   ]
  },
  {
   "cell_type": "code",
   "execution_count": null,
   "id": "bde45191-e98a-410e-a039-2998df1d34f9",
   "metadata": {},
   "outputs": [],
   "source": [
    "interact(func,x={'hello':100,'Ballerina':400,'ana de armas':100000});"
   ]
  },
  {
   "cell_type": "code",
   "execution_count": null,
   "id": "32ca4341-9816-4199-a573-c750b01c540f",
   "metadata": {},
   "outputs": [],
   "source": [
    "from IPython.display import display"
   ]
  },
  {
   "cell_type": "code",
   "execution_count": null,
   "id": "f050bfbc-1ae8-4d14-8ef3-95f32ec7af83",
   "metadata": {},
   "outputs": [],
   "source": [
    "def dis(x,y):\n",
    "    display(x+y)\n",
    "    return x+y"
   ]
  },
  {
   "cell_type": "code",
   "execution_count": null,
   "id": "3c3080a0-71cc-4bdf-a5f4-753b933095d6",
   "metadata": {},
   "outputs": [],
   "source": [
    "interactive(dis,x=10,y=12)"
   ]
  },
  {
   "cell_type": "code",
   "execution_count": null,
   "id": "61369653-148c-4780-afa5-cf9097649752",
   "metadata": {},
   "outputs": [],
   "source": []
  },
  {
   "cell_type": "code",
   "execution_count": null,
   "id": "685d3237-59c8-4c98-ad95-572124d3b2ac",
   "metadata": {},
   "outputs": [],
   "source": []
  },
  {
   "cell_type": "code",
   "execution_count": null,
   "id": "9d171beb-012c-4b11-a3f7-25e26548aead",
   "metadata": {},
   "outputs": [],
   "source": [
    "from ipywidgets import interact,interactive,fixed"
   ]
  },
  {
   "cell_type": "code",
   "execution_count": null,
   "id": "aab4f48b-c8a2-445f-a424-ee050492027d",
   "metadata": {},
   "outputs": [],
   "source": [
    "@interact(x=100,y=00.11)\n",
    "def func(x,y):\n",
    "    return(x,y)"
   ]
  },
  {
   "cell_type": "code",
   "execution_count": null,
   "id": "bd957c7f-9cbe-4b78-a46b-2c3505388b45",
   "metadata": {},
   "outputs": [],
   "source": [
    "interact(func,x=(-100,100,1),y=1000)"
   ]
  },
  {
   "cell_type": "code",
   "execution_count": null,
   "id": "f84fba27-003e-4dc7-b5dc-3d31e41395b2",
   "metadata": {},
   "outputs": [],
   "source": [
    "interactive(func,x=-1000,y=-111)"
   ]
  },
  {
   "cell_type": "code",
   "execution_count": null,
   "id": "d5dd56ac-fb91-4382-bd29-852394c62d2e",
   "metadata": {},
   "outputs": [],
   "source": [
    "def f(x):\n",
    "    return x"
   ]
  },
  {
   "cell_type": "code",
   "execution_count": null,
   "id": "7f4d8783-cc23-4016-9839-8acd965d87c5",
   "metadata": {},
   "outputs": [],
   "source": [
    "interact(f,x=100)"
   ]
  },
  {
   "cell_type": "code",
   "execution_count": null,
   "id": "533c118b-74c8-4b00-aa0e-fc1f13b6a46a",
   "metadata": {},
   "outputs": [],
   "source": [
    "interact(func,x={'coolie':1000,'hi nanna':300,'kaithi':100},y=['rajamouli','trivikram','lokesh kanagaraj']);"
   ]
  },
  {
   "cell_type": "code",
   "execution_count": null,
   "id": "47a9ca70-7354-4cab-af00-75d7cd8bbefa",
   "metadata": {},
   "outputs": [],
   "source": [
    "from IPython.display import display"
   ]
  },
  {
   "cell_type": "code",
   "execution_count": null,
   "id": "43910ad9-29d0-4646-b6fb-dc081db777bd",
   "metadata": {},
   "outputs": [],
   "source": [
    "def f(x,r):\n",
    "    display(x+r)\n",
    "    return x+r"
   ]
  },
  {
   "cell_type": "code",
   "execution_count": null,
   "id": "4ce718e0-ff08-4299-a367-367e0f615fbd",
   "metadata": {},
   "outputs": [],
   "source": [
    "interactive(f,x=-10,r=1000)\n"
   ]
  },
  {
   "cell_type": "code",
   "execution_count": null,
   "id": "6b02573a-fb2f-40af-80aa-e0abc88ea7e7",
   "metadata": {},
   "outputs": [],
   "source": [
    "from IPython.display import display\n",
    "def f(x,y):\n",
    "    return x+y"
   ]
  },
  {
   "cell_type": "code",
   "execution_count": null,
   "id": "e58e4757-1e1c-4468-b96e-29e8f7ad4756",
   "metadata": {},
   "outputs": [],
   "source": [
    "interactive(f,x=100,y=100)"
   ]
  },
  {
   "cell_type": "code",
   "execution_count": null,
   "id": "c31ab99b-b207-47ba-a43b-0f5b3de5c2cf",
   "metadata": {},
   "outputs": [],
   "source": []
  },
  {
   "cell_type": "code",
   "execution_count": null,
   "id": "43b764bf-2044-48fe-a774-ccd86c699c75",
   "metadata": {},
   "outputs": [],
   "source": [
    "from IPython.display import display"
   ]
  },
  {
   "cell_type": "code",
   "execution_count": null,
   "id": "5784d54f-8483-40e8-bd81-d79d84570345",
   "metadata": {},
   "outputs": [],
   "source": [
    "import ipywidgets as widgets"
   ]
  },
  {
   "cell_type": "code",
   "execution_count": null,
   "id": "58f97d14-9a53-4eee-b539-c2444b248629",
   "metadata": {},
   "outputs": [],
   "source": [
    "w = widgets.IntSlider(20,-100,100,1)\n",
    "r=widgets.IntSlider(20,-100,100,1)\n",
    "w"
   ]
  },
  {
   "cell_type": "code",
   "execution_count": null,
   "id": "597567d6-5c47-4b29-a26c-c5f457b1670b",
   "metadata": {},
   "outputs": [],
   "source": [
    "w.value=89"
   ]
  },
  {
   "cell_type": "code",
   "execution_count": null,
   "id": "a12f65c5-9c20-4615-9347-15cc27e1c0c3",
   "metadata": {},
   "outputs": [],
   "source": [
    "\n",
    "display(w)\n"
   ]
  },
  {
   "cell_type": "code",
   "execution_count": null,
   "id": "6b7682c6-1e9f-4728-8763-abaf20a647fa",
   "metadata": {},
   "outputs": [],
   "source": [
    "display(r)"
   ]
  },
  {
   "cell_type": "code",
   "execution_count": null,
   "id": "0b0698e9-ce9b-40be-a153-0b19a77beefb",
   "metadata": {},
   "outputs": [],
   "source": [
    "w.keys"
   ]
  },
  {
   "cell_type": "code",
   "execution_count": null,
   "id": "78a7e057-35c1-4b1a-aa75-886ecb7f8644",
   "metadata": {},
   "outputs": [],
   "source": [
    "w.value = 30"
   ]
  },
  {
   "cell_type": "code",
   "execution_count": null,
   "id": "b648c493-6a61-43db-9a0e-c08c7fbc6fd1",
   "metadata": {},
   "outputs": [],
   "source": [
    "x=widgets.IntSlider(100)\n",
    "x"
   ]
  },
  {
   "cell_type": "code",
   "execution_count": null,
   "id": "3a8f61d6-656c-47af-be05-f07a62e25b13",
   "metadata": {},
   "outputs": [],
   "source": [
    "y=widgets.IntText(100)\n",
    "y"
   ]
  },
  {
   "cell_type": "code",
   "execution_count": null,
   "id": "2a439256-f2b1-4a63-bb68-7c089340db44",
   "metadata": {},
   "outputs": [],
   "source": [
    "p=widgets.jslink((x,'max'),(y,'value'))\n",
    "p"
   ]
  },
  {
   "cell_type": "code",
   "execution_count": null,
   "id": "cdb5e34c-82fa-4b42-99b7-09c30d147fb1",
   "metadata": {},
   "outputs": [],
   "source": [
    "widgets.ColorPicker()"
   ]
  },
  {
   "cell_type": "code",
   "execution_count": null,
   "id": "222d992e-3d30-4b4d-a639-04017dd292a7",
   "metadata": {},
   "outputs": [],
   "source": [
    "p.unlink()"
   ]
  },
  {
   "cell_type": "code",
   "execution_count": null,
   "id": "b627a4cd-7553-4ad2-b4f3-f6ec26fa3826",
   "metadata": {},
   "outputs": [],
   "source": [
    "from IPython.display import display"
   ]
  },
  {
   "cell_type": "code",
   "execution_count": null,
   "id": "5e871f5b-8800-40fa-8fde-871fee755105",
   "metadata": {},
   "outputs": [],
   "source": [
    "import ipywidgets as widgets"
   ]
  },
  {
   "cell_type": "code",
   "execution_count": null,
   "id": "5db624c5-5e75-4d14-bdef-13eca7a7b318",
   "metadata": {},
   "outputs": [],
   "source": [
    "w = widgets.IntSlider(111)\n",
    "w"
   ]
  },
  {
   "cell_type": "code",
   "execution_count": null,
   "id": "f1c50e28-dd0c-4a6d-9924-e63b9e683d33",
   "metadata": {},
   "outputs": [],
   "source": [
    "w.value = 12"
   ]
  },
  {
   "cell_type": "code",
   "execution_count": null,
   "id": "2e58a200-51e4-4d39-acd2-8bfa895184de",
   "metadata": {},
   "outputs": [],
   "source": [
    "w.keys"
   ]
  },
  {
   "cell_type": "code",
   "execution_count": null,
   "id": "bc8ce7e0-7fe4-4cba-a6a5-94819fc280cc",
   "metadata": {},
   "outputs": [],
   "source": [
    "a = widgets.FloatSlider(100)\n",
    "b = widgets.FloatText(100)\n"
   ]
  },
  {
   "cell_type": "code",
   "execution_count": null,
   "id": "6c3f6cd6-636f-417b-abbd-90c08b572482",
   "metadata": {},
   "outputs": [],
   "source": [
    "w = widgets.jslink((a,'max'),(b,'value'))\n",
    "w"
   ]
  },
  {
   "cell_type": "code",
   "execution_count": null,
   "id": "75320aaf-e0be-4720-8168-2f936c3332fe",
   "metadata": {},
   "outputs": [],
   "source": [
    "a"
   ]
  },
  {
   "cell_type": "code",
   "execution_count": null,
   "id": "27618d62-906b-4b23-a475-04466d6fe79c",
   "metadata": {},
   "outputs": [],
   "source": [
    "b"
   ]
  },
  {
   "cell_type": "code",
   "execution_count": null,
   "id": "f15fa0f0-61e7-42cb-ac14-06860e1c9a3c",
   "metadata": {},
   "outputs": [],
   "source": [
    "import ipywidgets as widgets"
   ]
  },
  {
   "cell_type": "code",
   "execution_count": null,
   "id": "dd2a6652-66a7-4a34-99dd-7a98c7470fe3",
   "metadata": {},
   "outputs": [],
   "source": [
    "from IPython.display import display"
   ]
  },
  {
   "cell_type": "code",
   "execution_count": null,
   "id": "4c95e694-e03d-45d2-ae15-76837612d8ec",
   "metadata": {},
   "outputs": [],
   "source": [
    "w=widgets.IntSlider(100)\n",
    "w"
   ]
  },
  {
   "cell_type": "code",
   "execution_count": null,
   "id": "c5839af1-2cfb-40b2-b275-afcb652841a3",
   "metadata": {},
   "outputs": [],
   "source": [
    "w.layout.margin = 'auto'\n",
    "w.layout.height = '100px'\n"
   ]
  },
  {
   "cell_type": "code",
   "execution_count": null,
   "id": "588ae41b-0643-4f86-ba31-afbc6a7e60b5",
   "metadata": {},
   "outputs": [],
   "source": [
    "x = widgets.IntSlider(value = 15 , description = 'New Slider')\n",
    "display(x)"
   ]
  },
  {
   "cell_type": "code",
   "execution_count": null,
   "id": "436287ee-074c-4e45-8dcf-2bf17a09aeb7",
   "metadata": {},
   "outputs": [],
   "source": [
    "x.layout = w.layout"
   ]
  },
  {
   "cell_type": "code",
   "execution_count": null,
   "id": "4b059596-1159-4d87-ab97-78f7aa0eea39",
   "metadata": {},
   "outputs": [],
   "source": [
    "widgets.Button(description='Extra ordinary',button_style ='warning')"
   ]
  },
  {
   "cell_type": "code",
   "execution_count": null,
   "id": "8404442f-b619-4e6f-a5d6-39ca1deea128",
   "metadata": {},
   "outputs": [],
   "source": [
    "b1 = widgets.Button(description='Custom Color')\n",
    "b1.style.button_color = 'lightgreen'\n",
    "b1.style.keys"
   ]
  },
  {
   "cell_type": "code",
   "execution_count": null,
   "id": "a087d022-cb04-4a20-a86c-9a2d225fa68d",
   "metadata": {},
   "outputs": [],
   "source": [
    "b1.layout.keys"
   ]
  },
  {
   "cell_type": "code",
   "execution_count": null,
   "id": "bc5f84fd-c351-48d1-9cfc-35fe21d41be7",
   "metadata": {},
   "outputs": [],
   "source": [
    "widgets.IntText()"
   ]
  },
  {
   "cell_type": "code",
   "execution_count": null,
   "id": "9402ed37-fa52-40a8-81ce-4f50aeb31c02",
   "metadata": {
    "scrolled": true
   },
   "outputs": [],
   "source": [
    "b1.style.keys"
   ]
  },
  {
   "cell_type": "code",
   "execution_count": null,
   "id": "44d9ec7f-855f-45fd-ae28-d169a7c90dbd",
   "metadata": {},
   "outputs": [],
   "source": [
    "s1=widgets.IntSlider(100,description='test')"
   ]
  },
  {
   "cell_type": "code",
   "execution_count": null,
   "id": "36ee09b5-ce76-4451-b8a7-984b94539566",
   "metadata": {},
   "outputs": [],
   "source": [
    "s1.style.handle_color='black'"
   ]
  },
  {
   "cell_type": "code",
   "execution_count": null,
   "id": "f998e335-eefc-48ec-9f3c-78617eb72425",
   "metadata": {},
   "outputs": [],
   "source": [
    "s1.layout."
   ]
  },
  {
   "cell_type": "code",
   "execution_count": null,
   "id": "057e1f05-6b0c-4dc2-9271-80e39888c977",
   "metadata": {},
   "outputs": [],
   "source": [
    "%matplotlib inline"
   ]
  },
  {
   "cell_type": "code",
   "execution_count": null,
   "id": "40c97172-a57a-469e-85f9-46c724a0e637",
   "metadata": {},
   "outputs": [],
   "source": [
    "from ipywidgets import interact, interactive\n",
    "from IPython.display import clear_output, display, HTML\n",
    "import numpy as np\n",
    "from scipy import integrate\n",
    "\n",
    "from matplotlib import pyplot as plt\n",
    "from mpl_toolkits.mplot3d import Axes3D\n",
    "from matplotlib.colors import cnames\n",
    "from matplotlib import animation\n",
    "\n",
    "def solve_lorenz(N=10, angle=0.0, max_time=4.0, sigma=10.0, beta=8./3, rho=28.0):\n",
    "\n",
    "    fig = plt.figure();\n",
    "    ax = fig.add_axes([0, 0, 1, 1], projection='3d');\n",
    "    ax.axis('off')\n",
    "\n",
    "    # prepare the axes limits\n",
    "    ax.set_xlim((-25, 25))\n",
    "    ax.set_ylim((-35, 35))\n",
    "    ax.set_zlim((5, 55))\n",
    "    \n",
    "    def lorenz_deriv(x_y_z, t0, sigma=sigma, beta=beta, rho=rho):\n",
    "        \"\"\"Compute the time-derivative of a Lorenz system.\"\"\"\n",
    "        x, y, z = x_y_z\n",
    "        return [sigma * (y - x), x * (rho - z) - y, x * y - beta * z]\n",
    "\n",
    "    # Choose random starting points, uniformly distributed from -15 to 15\n",
    "    np.random.seed(1)\n",
    "    x0 = -15 + 30 * np.random.random((N, 3))\n",
    "\n",
    "    # Solve for the trajectories\n",
    "    t = np.linspace(0, max_time, int(250*max_time))\n",
    "    x_t = np.asarray([integrate.odeint(lorenz_deriv, x0i, t)\n",
    "                      for x0i in x0])\n",
    "    \n",
    "    # choose a different color for each trajectory\n",
    "    colors = plt.cm.jet(np.linspace(0, 1, N));\n",
    "\n",
    "    for i in range(N):\n",
    "        x, y, z = x_t[i,:,:].T\n",
    "        lines = ax.plot(x, y, z, '-', c=colors[i])\n",
    "        _ = plt.setp(lines, linewidth=2);\n",
    "\n",
    "    ax.view_init(30, angle)\n",
    "    _ = plt.show();\n",
    "\n",
    "    return t, x_t\n",
    "\n",
    "\n"
   ]
  },
  {
   "cell_type": "code",
   "execution_count": null,
   "id": "b4a153ee-a0e0-44fe-b7b8-c89937e72640",
   "metadata": {},
   "outputs": [],
   "source": [
    "t, x_t = solve_lorenz(angle=0, N=10)\n",
    "w = interactive(solve_lorenz, angle=(0.,360.), N=(0,50), sigma=(0.0,50.0), rho=(0.0,50.0))\n",
    "display(w);"
   ]
  },
  {
   "cell_type": "code",
   "execution_count": null,
   "id": "b7876829-ccec-49f9-8800-1ee05b0b6faf",
   "metadata": {},
   "outputs": [],
   "source": [
    "r = 'malayalam'\n",
    "def palindrome(r):\n",
    "    if r==r[::-1]:\n",
    "        print('r is palindrome word')\n",
    "    else:\n",
    "        print('r is not a palindrome word')\n",
    "palindrome(r)"
   ]
  },
  {
   "cell_type": "code",
   "execution_count": null,
   "id": "7130373b-ebaa-4392-a3d0-d8242f3d5bda",
   "metadata": {},
   "outputs": [],
   "source": [
    "r = 'malayalam'\n",
    "vowels = ['a','e','i','o','u']\n",
    "def vowel(r):\n",
    "    for i in r:\n",
    "        if elif i != 'a' or 'i' or 'e' or 'o' or 'u':\n",
    "            print('not a vowel')   \n",
    "        elif i == 'a' or 'i' or 'e' or 'o' or 'u':\n",
    "            print('not a vowel')"
   ]
  },
  {
   "cell_type": "code",
   "execution_count": null,
   "id": "9591a8d1-45f0-4ab9-bcd4-bcd31bcfba3c",
   "metadata": {},
   "outputs": [],
   "source": [
    "r = 'malayalam'\n",
    "def func(r):\n",
    "    for i in r:\n",
    "        if i=='a':\n",
    "            print(i)\n",
    "            \n",
    "        elif  i=='e':\n",
    "            print(i)\n",
    "            o= count(i)\n",
    "            print(o)\n",
    "        elif  i=='i':\n",
    "            print(i)\n",
    "            o= count(i)\n",
    "            print(o)\n",
    "        elif  i=='o':\n",
    "            print(i)\n",
    "            o= count(i)\n",
    "            print(o)\n",
    "        elif  i=='u':\n",
    "            print(i)\n",
    "            o= count(i)\n",
    "            print(o)"
   ]
  },
  {
   "cell_type": "code",
   "execution_count": null,
   "id": "4fd651f7-bf75-4c1a-b615-62666b99b3d4",
   "metadata": {},
   "outputs": [],
   "source": [
    "func(r)"
   ]
  },
  {
   "cell_type": "code",
   "execution_count": null,
   "id": "56ab444c-6c43-46f5-833f-7692dee244f8",
   "metadata": {},
   "outputs": [],
   "source": [
    "f = open('sample.txt','w')\n",
    "f.write('''Artificial Intelligence (AI) is transforming the world. From healthcare to finance, AI technologies are revolutionizing how industries operate. Machine learning, a subset of AI, allows computers to learn from data and improve over time without being explicitly programmed.\n",
    "\n",
    "In the healthcare sector, AI helps in diagnosing diseases faster and more accurately. It can analyze medical images, predict patient outcomes, and personalize treatment plans. In finance, AI is used for fraud detection, algorithmic trading, and customer service chatbots.\n",
    "\n",
    "Despite the benefits, AI raises ethical concerns. Issues such as job displacement, data privacy, and algorithmic bias need to be addressed. Governments and organizations are working on regulations to ensure responsible AI development.\n",
    "\n",
    "AI's future is promising. As technology evolves, so will its applications, bringing both opportunities and challenges.\n",
    "''')\n"
   ]
  },
  {
   "cell_type": "code",
   "execution_count": null,
   "id": "4d39cad3-178c-474f-89b6-6f483d71abeb",
   "metadata": {},
   "outputs": [],
   "source": []
  },
  {
   "cell_type": "code",
   "execution_count": null,
   "id": "4e22ca65-c937-46ef-af9b-1336ed52224b",
   "metadata": {},
   "outputs": [],
   "source": [
    "import re"
   ]
  },
  {
   "cell_type": "code",
   "execution_count": null,
   "id": "0df27327-279b-4c37-91fc-e3fa425ceef8",
   "metadata": {},
   "outputs": [],
   "source": [
    "re.split()"
   ]
  },
  {
   "cell_type": "code",
   "execution_count": null,
   "id": "0836a877-d623-4311-8569-80569bed841b",
   "metadata": {},
   "outputs": [],
   "source": [
    "pip install playsound"
   ]
  },
  {
   "cell_type": "code",
   "execution_count": null,
   "id": "a691f11c-1b1a-48c5-a890-0e2a7ac922e9",
   "metadata": {},
   "outputs": [],
   "source": [
    "import playsound"
   ]
  },
  {
   "cell_type": "code",
   "execution_count": null,
   "id": "33ef64f9-71a6-43ef-aa64-946c2b222bd8",
   "metadata": {},
   "outputs": [],
   "source": [
    "music = playsound.playsound(\"Nada Nada.mp3\")"
   ]
  },
  {
   "cell_type": "code",
   "execution_count": null,
   "id": "4ac95158-f0a1-433f-84f1-b783afd43e15",
   "metadata": {},
   "outputs": [],
   "source": [
    "pip install pygame\n"
   ]
  },
  {
   "cell_type": "code",
   "execution_count": null,
   "id": "24d4c4f0-9819-497b-8eb6-533d1254d953",
   "metadata": {},
   "outputs": [],
   "source": [
    "import moviepy"
   ]
  },
  {
   "cell_type": "code",
   "execution_count": null,
   "id": "dfc76cb0-2b11-4409-bfd6-01f51d431812",
   "metadata": {},
   "outputs": [],
   "source": [
    "from moviepy import VideoFileClip"
   ]
  },
  {
   "cell_type": "code",
   "execution_count": null,
   "id": "022b7dbd-f600-4c04-b843-228f365bb973",
   "metadata": {},
   "outputs": [],
   "source": [
    "mp3 = VideoFileClip(\"C:\\\\Users\\\\sampa\\\\python learning folder\\\\Nada Nada.mp4\")"
   ]
  },
  {
   "cell_type": "code",
   "execution_count": null,
   "id": "7d521b59-ac20-4e2e-bdfd-14772d92c26d",
   "metadata": {},
   "outputs": [],
   "source": [
    "mp3.audio.write_audiofile('Nada Nada.mp3')"
   ]
  },
  {
   "cell_type": "code",
   "execution_count": null,
   "id": "6bd08587-12c0-410e-bc7a-f33bde5d4f53",
   "metadata": {},
   "outputs": [],
   "source": [
    "import pygame\n",
    "\n",
    "\n",
    "# Initialize the mixer\n",
    "pygame.mixer.init()\n",
    "\n",
    "# Load and play your MP3 file\n",
    "pygame.mixer.music.load(\"C:/Users/sampa/Downloads/Nada Nada.mp3\")  # or wherever you saved it\n",
    "pygame.mixer.music.play()\n",
    "\n",
    "\n"
   ]
  },
  {
   "cell_type": "code",
   "execution_count": null,
   "id": "8c2df23a-0288-48b9-a8c2-e49f28a44dd8",
   "metadata": {},
   "outputs": [],
   "source": [
    "pygame.mixer.music.pause()"
   ]
  },
  {
   "cell_type": "code",
   "execution_count": null,
   "id": "d1849577-2616-4752-99c9-af5f5506a516",
   "metadata": {},
   "outputs": [],
   "source": [
    "pygame.mixer.music.play()"
   ]
  },
  {
   "cell_type": "code",
   "execution_count": null,
   "id": "34a5820e-b070-480c-a44f-219d6a03f025",
   "metadata": {},
   "outputs": [],
   "source": [
    "pygame.mixer.music.unpause()"
   ]
  },
  {
   "cell_type": "code",
   "execution_count": null,
   "id": "db226943-56b1-4b8e-904c-93ea6f25a776",
   "metadata": {},
   "outputs": [],
   "source": [
    "r = '12'\n",
    "r = r.split()"
   ]
  },
  {
   "cell_type": "code",
   "execution_count": null,
   "id": "fc89eef2-1c5c-4e53-9fe7-06a52ca6ec02",
   "metadata": {},
   "outputs": [],
   "source": [
    "f = int(input ('enter your first no')) \n",
    "s = int(input ('enter your second no'))\n",
    "r=0\n",
    "while r!=0:\n",
    "    r = (f**2)+(s**2)\n",
    "    if s==1 :\n",
    "        print(f'{f+s} is a happy no')"
   ]
  },
  {
   "cell_type": "code",
   "execution_count": null,
   "id": "292f89b0-f26f-46d7-86c7-ef21b40cb5e4",
   "metadata": {},
   "outputs": [],
   "source": [
    "f=3\n",
    "r=4\n",
    "add = (f**2)+(r**2)\n",
    "if add ==1:\n",
    "    print(f'{f,r} is a happy no')\n",
    "    "
   ]
  },
  {
   "cell_type": "code",
   "execution_count": null,
   "id": "762380b1-820b-4924-af98-0e40f4c9f97a",
   "metadata": {},
   "outputs": [],
   "source": [
    "lis = [1,2,3,4,5,6,7,8,9,10,11]\n",
    "f = int(input ('enter your first no')) \n",
    "s = int(input ('enter your second no'))\n",
    "for i in range(11):\n",
    "    no = '0'\n",
    "    r = (f**2)+(s**2)\n",
    "    no_str = str(s) +\n",
    "    print(r)\n",
    "    if r == 1:\n",
    "        \n",
    "        "
   ]
  },
  {
   "cell_type": "code",
   "execution_count": null,
   "id": "4d787f7b-811a-4f01-b1c2-5362151d0447",
   "metadata": {},
   "outputs": [],
   "source": [
    "w = 12\n",
    "r = str(w)\n",
    "r[0]"
   ]
  },
  {
   "cell_type": "code",
   "execution_count": null,
   "id": "a333976e-d46e-4b68-ae1f-1fc62eb1e772",
   "metadata": {},
   "outputs": [],
   "source": [
    "w = 242\n",
    "\n",
    "s = str(w)\n",
    "value = (int(s[0])**2) + (int(s[1])**2) + (int(s[2])**2) \n",
    "value"
   ]
  },
  {
   "cell_type": "code",
   "execution_count": null,
   "id": "05ef3d4c-d2c1-452a-a5e7-0cc92e209d80",
   "metadata": {
    "scrolled": true
   },
   "outputs": [],
   "source": [
    "w = 1223442\n",
    "e = str(w)\n",
    "n = 0\n",
    "while n!=1:\n",
    "    for i in range(len(e)):\n",
    "        value = (int(e[i])**2)\n",
    "        n = value+n\n",
    "    n = str\n",
    "    if n ==1:\n",
    "        print(n)\n",
    "    else:\n",
    "        print('its not a happy no')\n"
   ]
  },
  {
   "cell_type": "code",
   "execution_count": null,
   "id": "fba24188-98d1-4633-8098-cba6bfc1a9f1",
   "metadata": {},
   "outputs": [],
   "source": []
  },
  {
   "cell_type": "code",
   "execution_count": null,
   "id": "269493d3-b129-415f-a6c1-5174dd4be9a2",
   "metadata": {},
   "outputs": [],
   "source": [
    "def happy_no(w):\n",
    "    e = str(w)\n",
    "    n = 0\n",
    "    for i in range(len(e)):\n",
    "        value = (int(e[i])**2)\n",
    "        n = value+n\n",
    "    return n"
   ]
  },
  {
   "cell_type": "code",
   "execution_count": null,
   "id": "ca1d66b1-c2e7-4626-bd1b-099daad7701e",
   "metadata": {},
   "outputs": [],
   "source": [
    "n= 0\n",
    "w  = input('Enter a number to check if it is a happy no or not')\n",
    "valist = []\n",
    "while n!=1:\n",
    "    if happy_no(w)==1:\n",
    "        n=1\n",
    "        print(f' {w} is a happy number')\n",
    "        break\n",
    "    elif n!=1:\n",
    "        new_no = happy_no(w) \n",
    "        w = new_no\n",
    "        print(w)\n",
    "        if w == 1:\n",
    "            print(f'Given number by the user is a happy Number ')\n",
    "            \n",
    "        elif valist.count(w) == 0:\n",
    "            valist.append(w)\n",
    "        else:\n",
    "            print(f'{w} just got repeated twice , so given no by the user is not a happy number ')\n",
    "            break\n",
    "       "
   ]
  },
  {
   "cell_type": "code",
   "execution_count": null,
   "id": "95f533b0-e235-4cb6-a0ae-ba4bba2aa62f",
   "metadata": {},
   "outputs": [],
   "source": []
  },
  {
   "cell_type": "code",
   "execution_count": null,
   "id": "ddd2cf46-27fb-430c-a4a2-dfb0fc909e04",
   "metadata": {},
   "outputs": [],
   "source": [
    "a = [1,2,3,4,5,6,5,4,3]\n",
    "a.count(4) == 2"
   ]
  },
  {
   "cell_type": "code",
   "execution_count": null,
   "id": "85c2fd2e-d28e-4977-8884-f32aee5c6085",
   "metadata": {},
   "outputs": [],
   "source": [
    "from math import pi"
   ]
  },
  {
   "cell_type": "code",
   "execution_count": null,
   "id": "c8999cf6-7d43-41a0-8c4b-6d72143f89d4",
   "metadata": {},
   "outputs": [],
   "source": [
    "def pii():\n",
    "    from math import pi\n",
    "    x = int(input('enter a no until how many decimal you want to generate pi (48 is the limit) : '))\n",
    "    if x<=48:\n",
    "        print(f' {pi:.{x}f} here is your no ')\n",
    "        w = (f'{pi:.{x}f}')\n",
    "        return w\n",
    "    else:\n",
    "        print('your no has exceeded the limit')"
   ]
  },
  {
   "cell_type": "code",
   "execution_count": null,
   "id": "bbb41600-72f0-48fa-917d-7bd7823343da",
   "metadata": {},
   "outputs": [],
   "source": [
    "w = (f'{pi:.2f}')\n",
    "w"
   ]
  },
  {
   "cell_type": "code",
   "execution_count": null,
   "id": "7c04b388-8a5b-42a7-b6ca-32c6b41db978",
   "metadata": {},
   "outputs": [],
   "source": [
    "pii()"
   ]
  },
  {
   "cell_type": "code",
   "execution_count": null,
   "id": "c7c3ea3b-3c17-4dc0-bb70-93fdb35694e5",
   "metadata": {},
   "outputs": [],
   "source": [
    "class calculator:\n",
    "    def __init__(self):\n",
    "        self.self= self\n",
    "    def add(self):\n",
    "        w = input(' enter a list of no like this 1 2 3 (leave space) : ')\n",
    "        m = w.split()\n",
    "        liss = []\n",
    "        for i in m:\n",
    "                liss.append(int(i))\n",
    "        s = sum(liss)\n",
    "        return s\n",
    "    def multiply(self):\n",
    "        w = input(' enter a list of no like this 1 2 3 (leave space) : ')\n",
    "        m = w.split()\n",
    "        liss = []\n",
    "        for i in m:\n",
    "            liss.append(int(i))\n",
    "        n=1\n",
    "        for i in liss:\n",
    "            n=n*i\n",
    "        return f'your multiplied answer is : {n}'\n",
    "\n",
    "            \n",
    "    def sub(self):\n",
    "        w = input(' enter a list of no like this 1 2 3 (leave space) : ')\n",
    "        m = w.split()\n",
    "        liss = []\n",
    "        for i in m:\n",
    "            liss.append(int(i))\n",
    "        first = liss[0]\n",
    "        last = sum(liss[1:])\n",
    "        subtract=first - last\n",
    "        return subtract\n",
    "    def divide(self,a,b):\n",
    "        return a/b\n",
    "    \n",
    "            \n",
    "            \n",
    "        "
   ]
  },
  {
   "cell_type": "code",
   "execution_count": null,
   "id": "9cd680ea-7b99-4d04-8b92-134456c31076",
   "metadata": {},
   "outputs": [],
   "source": [
    "def add():\n",
    "    w = input(' enter a list of no like this 1 2 3 (leave space) : ')\n",
    "    m = w.split()\n",
    "    liss = []\n",
    "    for i in m:\n",
    "            liss.append(int(i))\n",
    "    s = sum(liss)\n",
    "    return s\n",
    "    "
   ]
  },
  {
   "cell_type": "code",
   "execution_count": null,
   "id": "56f812e4-a4ec-47fa-ab6f-894c27bbf406",
   "metadata": {},
   "outputs": [],
   "source": [
    "cal = calculator\n"
   ]
  },
  {
   "cell_type": "code",
   "execution_count": null,
   "id": "226611bf-c601-482b-8625-e503e54187d3",
   "metadata": {},
   "outputs": [],
   "source": [
    "w = (input('enter the nos: '))\n",
    "i = (w.split())\n",
    "i "
   ]
  },
  {
   "cell_type": "code",
   "execution_count": null,
   "id": "9df47525-2b1b-4d28-9796-13cb1fbd4023",
   "metadata": {},
   "outputs": [],
   "source": [
    "def multiply():\n",
    "    w = input(' enter a list of no like this 1 2 3 (leave space) : ')\n",
    "    m = w.split()\n",
    "    liss = []\n",
    "    for i in m:\n",
    "        liss.append(int(i))\n",
    "    n=1\n",
    "    for i in liss:\n",
    "        n=n*i\n",
    "    return f'your multiplied answer is : {n}'\n",
    "multiply()"
   ]
  },
  {
   "cell_type": "code",
   "execution_count": null,
   "id": "4548fef4-007e-4abd-84e1-1d3b3107d3e3",
   "metadata": {},
   "outputs": [],
   "source": [
    "def calci():\n",
    "    \n",
    "    start = input('if you want to start calci, type yes')\n",
    "    if start == 'yes' or 'y':\n",
    "        \n",
    "        \n",
    "\n",
    "        n=0\n",
    "        \n",
    "        while n!=1:    \n",
    "            choice = int(input('pls select 1. add , 2. multiply , 3. division , 4. Subtraction  , 5. EXIT :     '))\n",
    "            if choice == 1:\n",
    "                r = cal.add()\n",
    "                print(r)\n",
    "                \n",
    "            elif choice == 2:\n",
    "                r = cal.multiply()\n",
    "                print(r)\n",
    "                \n",
    "            elif choice == 3:\n",
    "                a = int(input('enter the Nominator :'))\n",
    "                b = int(input('enter the Denominator :'))\n",
    "                r = cal.divide(a,b)\n",
    "                print(r)\n",
    "                \n",
    "            elif choice ==4:\n",
    "                r = cal.sub()\n",
    "                print(r)\n",
    "            elif choice == 5:\n",
    "                n = 1\n",
    "                break\n",
    "                \n",
    "    else:\n",
    "        pass"
   ]
  },
  {
   "cell_type": "code",
   "execution_count": null,
   "id": "f9ceb1d5-e59e-4a42-a8b9-d606484c059f",
   "metadata": {},
   "outputs": [],
   "source": [
    "calci()"
   ]
  },
  {
   "cell_type": "code",
   "execution_count": null,
   "id": "6238a3d1-64cf-4bb4-9fae-48f363b98b08",
   "metadata": {},
   "outputs": [],
   "source": [
    "def qw():\n",
    "    liss = []\n",
    "    w = [input(' enter a list of no like this 1 2 3 (leave space) : ')]\n",
    "    for i in w:\n",
    "        \n",
    "    \n",
    "    return i"
   ]
  },
  {
   "cell_type": "code",
   "execution_count": null,
   "id": "e3a763bb-f926-49a7-9c74-38e4c50523b2",
   "metadata": {},
   "outputs": [],
   "source": [
    "\n",
    "2 "
   ]
  },
  {
   "cell_type": "code",
   "execution_count": null,
   "id": "93a2575d-f544-4811-b85e-b1a75945a912",
   "metadata": {},
   "outputs": [],
   "source": [
    "def sub():\n",
    "    w = input(' enter a list of no like this 1 2 3 (leave space) : ')\n",
    "    m = w.split()\n",
    "    liss = []\n",
    "    for i in m:\n",
    "        liss.append(int(i))\n",
    "    first = liss[0]\n",
    "    last = sum(liss[1:])\n",
    "    subtract=first - last\n",
    "    return subtract"
   ]
  },
  {
   "cell_type": "code",
   "execution_count": null,
   "id": "80acb1e5-9064-4317-9fb3-58015d564d93",
   "metadata": {},
   "outputs": [],
   "source": [
    "sub()\n"
   ]
  },
  {
   "cell_type": "code",
   "execution_count": null,
   "id": "e22c2b5b-8ab0-433b-afe5-14d464a29b8c",
   "metadata": {},
   "outputs": [],
   "source": [
    "m= input('cdsc')\n",
    "w = m.split()\n"
   ]
  },
  {
   "cell_type": "code",
   "execution_count": null,
   "id": "3c383d8c-121f-4970-a58b-5c478110ba9c",
   "metadata": {},
   "outputs": [],
   "source": [
    "for i in w:\n",
    "    lis.append(int(i))"
   ]
  },
  {
   "cell_type": "code",
   "execution_count": null,
   "id": "ae141123-44ca-4281-9130-56296cecd520",
   "metadata": {},
   "outputs": [],
   "source": [
    "lis = [1 ,2 ,3, 4, 5 ]\n",
    "p = sum(lis[0]) - sum(lis[1:])"
   ]
  },
  {
   "cell_type": "code",
   "execution_count": null,
   "id": "842be18d-be23-4871-a1a7-fbb5add87cce",
   "metadata": {},
   "outputs": [],
   "source": [
    "lis"
   ]
  },
  {
   "cell_type": "code",
   "execution_count": null,
   "id": "374f2551-e2a7-4bd0-91fd-f9c9247a2db6",
   "metadata": {},
   "outputs": [],
   "source": [
    "f = open('test.txt','a+')"
   ]
  },
  {
   "cell_type": "code",
   "execution_count": null,
   "id": "113b9f85-6370-4db2-b35d-21cd0a33b234",
   "metadata": {},
   "outputs": [],
   "source": [
    "f.write('it turns out to be a+ where i can read write and also append')"
   ]
  },
  {
   "cell_type": "code",
   "execution_count": null,
   "id": "86ed2449-ce00-40d2-96a3-1c12f42722ba",
   "metadata": {},
   "outputs": [],
   "source": [
    "lines =['''hello\\n , we are making pasta ''', '''\\n we are making text practice paper''']\n",
    "f.writelines(lines)"
   ]
  },
  {
   "cell_type": "code",
   "execution_count": null,
   "id": "f7f9d129-d06b-48cc-a52a-49576e8c2029",
   "metadata": {},
   "outputs": [],
   "source": [
    "'''Requirements:\n",
    "\n",
    "Recipe Class\n",
    "\n",
    "Attributes: name, ingredients, instructions, cooking_time, category.\n",
    "\n",
    "Methods to display recipe details neatly.\n",
    "\n",
    "Recipe Manager Class\n",
    "\n",
    "Stores multiple recipes.\n",
    "\n",
    "Allows users to:\n",
    "\n",
    "Add new recipes.\n",
    "\n",
    "Organize by categories (Desserts, Main Courses, etc.).\n",
    "\n",
    "Search by recipe name.\n",
    "\n",
    "Search by ingredient (e.g., show all recipes containing “chicken”).\n",
    "\n",
    "User Interaction (CLI or GUI)\n",
    "\n",
    "Menu-driven program with options:\n",
    "\n",
    "Add recipe\n",
    "\n",
    "Search by name\n",
    "\n",
    "Search by ingredient\n",
    "\n",
    "List all recipes in a category\n",
    "\n",
    "Export recipe(s) to a file (optional: PDF/CSV/JSON)\n",
    "\n",
    "(Optional Enhancements)\n",
    "\n",
    "Filter by cooking time (e.g., “show all recipes under 30 min”).\n",
    "\n",
    "Mark recipes as “favorites.”\n",
    "\n",
    "Save and load recipes from a CSV/JSON file.''' "
   ]
  },
  {
   "cell_type": "code",
   "execution_count": null,
   "id": "cd8df71d-066d-4adb-8653-a0c9610d3825",
   "metadata": {},
   "outputs": [],
   "source": [
    "class recipe_book:\n",
    "    def __init__(self,name, cooking_time):\n",
    "        Title = Title.self\n",
    "        pass\n",
    "    def Ingredients(self):\n",
    "        import csv\n",
    "        f = open('Ingredients.csv','a+',encoding = 'utf-8')\n",
    "        f.write\n",
    "        print(f'{Title } INGREDIENTS are written here')\n",
    "        store = input('Pls write to store all the ingredients here : ')\n",
    "        \n",
    "\n",
    "        \n",
    "        "
   ]
  },
  {
   "cell_type": "code",
   "execution_count": null,
   "id": "d19436cc-6d27-4f3f-a4b6-7e3994bb6f2f",
   "metadata": {},
   "outputs": [],
   "source": [
    "Appetizers / Starters → samosas, spring rolls, bruschetta\n",
    "\n",
    "Soups → tomato soup, chicken soup, mushroom soup\n",
    "\n",
    "Salads → Greek salad, fruit salad, Caesar salad\n",
    "\n",
    "Main Courses → pasta, biryani, steak, curry, grilled fish\n",
    "\n",
    "Side Dishes → mashed potatoes, naan, garlic bread, fries\n",
    "\n",
    "Desserts → ice cream, cakes, pies, pudding\n",
    "\n",
    "Snacks → sandwiches, pakoras, popcorn, chips\n",
    "\n",
    "Beverages / Drinks → smoothies, coffee, cocktails, milkshakes\n",
    "\n",
    "Breakfast → pancakes, dosa, omelette, cereal\n",
    "name, ingredients, instructions, cooking_time, category"
   ]
  },
  {
   "cell_type": "code",
   "execution_count": null,
   "id": "a7d64628-3ee4-49b0-8ded-249b67ec9990",
   "metadata": {},
   "outputs": [],
   "source": [
    "\n",
    "\n",
    "\n",
    "\n",
    "Vegetables\t,Fruits\t,Items( Dairy Products,Meat & Seafood,Packaged Items)\t,Grains\t,Lentils,\tNuts & Seeds\t,Herbs / Aromatics\t,Spices / Powders\t,Sauces / Condiments\t,Oils / Fats\n",
    "\n",
    "\n"
   ]
  },
  {
   "cell_type": "code",
   "execution_count": null,
   "id": "324936db-5977-48b6-a0fe-1113db462d3e",
   "metadata": {},
   "outputs": [],
   "source": [
    "f.close()"
   ]
  },
  {
   "cell_type": "code",
   "execution_count": null,
   "id": "ba5db466-8ff2-4e07-991f-935e229ce226",
   "metadata": {},
   "outputs": [],
   "source": [
    "import csv "
   ]
  },
  {
   "cell_type": "code",
   "execution_count": null,
   "id": "be9f070a-3072-48e5-8e73-9d7d8b5ec540",
   "metadata": {},
   "outputs": [],
   "source": [
    "f = open('csvfile.csv','a+',encoding='utf-8')\n",
    "csv_writer = csv.writer(f)"
   ]
  },
  {
   "cell_type": "code",
   "execution_count": null,
   "id": "e373396a-627a-4a8f-ae65-cccb63829c5a",
   "metadata": {},
   "outputs": [],
   "source": [
    "csv_writer.writerow(['Appetizers / Starters', 'Salads', 'Breakfast', 'Snacks', 'Beverages', 'Soups',  'Main Courses', 'Side Dishes', 'Desserts'])"
   ]
  },
  {
   "cell_type": "code",
   "execution_count": null,
   "id": "56ee36ae-e6df-4faa-b240-920d42f92048",
   "metadata": {},
   "outputs": [],
   "source": [
    "Appetizers / Starters → samosas, spring rolls, bruschetta\n",
    "\n",
    "Soups → tomato soup, chicken soup, mushroom soup\n",
    "\n",
    "Salads → Greek salad, fruit salad, Caesar salad\n",
    "\n",
    "Main Courses → pasta, biryani, steak, curry, grilled fish\n",
    "\n",
    "Side Dishes → mashed potatoes, naan, garlic bread, fries\n",
    "\n",
    "Desserts → ice cream, cakes, pies, pudding\n",
    "\n",
    "Snacks → sandwiches, pakoras, popcorn, chips\n",
    "\n",
    "Beverages / Drinks → smoothies, coffee, cocktails, milkshakes\n",
    "\n",
    "Breakfast → pancakes, dosa, omelette, cereal"
   ]
  },
  {
   "cell_type": "code",
   "execution_count": null,
   "id": "b83192b4-77a0-421b-8309-7c57dd0605af",
   "metadata": {},
   "outputs": [],
   "source": [
    "\n"
   ]
  },
  {
   "cell_type": "code",
   "execution_count": null,
   "id": "c9dab32c-d8f4-4f47-bfbd-f26c665e5520",
   "metadata": {},
   "outputs": [],
   "source": [
    "\n",
    "def recipe_name(self):\n",
    "    m_c_k = [\n",
    "        \"rice\",\"bread\",\"curries\",\"noodles pasta\",\"noodles\",\"complete meals\",\"meat dishes\",\"international\",\n",
    "        \"biryani\", \"pulao\", \"fried rice\", \"khichdi\", \"curd rice\", \"jeera rice\",\n",
    "        \"bread\", \"roti\", \"chapati\", \"naan\", \"paratha\", \"kulcha\", \"bhatura\", \"puri\",\n",
    "        \"curries\", \"dal\", \"chicken curry\", \"mutton curry\", \"paneer butter masala\",\n",
    "        \"chole\", \"rajma\", \"sambar\", \"fish curry\", \"korma\", \"egg curry\",\n",
    "        \"noodles\", \"chowmein\", \"ramen\", \"spaghetti\", \"pasta\", \"lasagna\",\n",
    "        \"thali\", \"dal chawal\", \"idli sambar\", \"dosa\", \"uttapam\", \"pongal\",\n",
    "        \"upma\", \"kadhi chawal\", \"khichdi\",\n",
    "        \"butter chicken\", \"tandoori chicken\", \"biryani\", \"mutton biryani\",\n",
    "        \"kebabs (meal sized)\", \"fish fry with rice\",\n",
    "        \"pizza\", \"burger\", \"taco\", \"burrito\", \"quesadilla\", \"shawarma\",\n",
    "        \"sushi (meal set)\", \"steak\", \"casserole\"\n",
    "    ]\n",
    "    d_k = [\n",
    "        # Indian sweets\n",
    "        \"sweets\",\"sweet\",\n",
    "        \"halwa\", \"kheer\", \"payasam\", \"rasgulla\", \"gulab jamun\", \"jalebi\",\n",
    "        \"laddu\", \"ladoo\", \"barfi\", \"burfi\", \"peda\", \"sandesh\", \"mysore pak\",\n",
    "        \"soan papdi\", \"cham cham\", \"shrikhand\", \"malpua\", \"rabri\", \"kulfi\",\n",
    "        \"phirni\", \"modak\", \"gujiya\", \"sheera\", \"seviyan\", \"balushahi\",\n",
    "        \n",
    "        # Cakes & pastries\n",
    "        \"cake\", \"cupcake\", \"brownie\", \"pastry\", \"muffin\", \"cheesecake\",\n",
    "        \"sponge cake\", \"red velvet\", \"black forest\", \"fruit cake\",\n",
    "        \n",
    "        # Frozen desserts\n",
    "        \"ice cream\", \"gelato\", \"sorbet\", \"kulfi\", \"popsicle\", \"falooda\",\n",
    "        \"sundae\", \"frozen yogurt\",\n",
    "        \n",
    "        # Pies & tarts\n",
    "        \"pie\", \"apple pie\", \"pumpkin pie\", \"pecan pie\", \"tart\", \"custard tart\",\n",
    "        \"fruit tart\",\n",
    "        \n",
    "        # Puddings & custards\n",
    "        \"pudding\", \"caramel pudding\", \"chocolate pudding\", \"custard\", \"mousse\",\n",
    "        \"souffle\", \"trifle\",\n",
    "        \n",
    "        # Confectionery\n",
    "        \"chocolate\", \"fudge\", \"candy\", \"toffee\", \"marshmallow\", \"macaron\",\n",
    "        \"donut\", \"doughnut\", \"waffle\", \"pancake\", \"crepe\", \"churros\", \"eclair\",\n",
    "        \"profiterole\"\n",
    "    ]\n",
    "    s_k = [\n",
    "        # Indian vegetables & fruits\n",
    "        \"cucumber\", \"tomato\", \"onion\", \"carrot\", \"beetroot\", \"cabbage\",\n",
    "        \"radish\", \"capsicum\", \"pomegranate\", \"apple\", \"banana\", \"grapes\",\n",
    "        \"orange\", \"papaya\", \"moong dal\", \"chana\", \"sprouts\", \"corn\",\n",
    "        \"curd\", \"yogurt\", \"paneer\", \"lemon\", \"coriander\", \"mint\",\n",
    "        \"chat masala\", \"salt\",\n",
    "    \n",
    "        # Global vegetables\n",
    "        \"artichoke\", \"asparagus\", \"broccoli\", \"cauliflower\", \"spinach\",\n",
    "        \"lettuce\", \"kale\", \"potato\", \"sweet potato\", \"okra\",\n",
    "        \"eggplant\", \"zucchini\", \"bell pepper\", \"mushroom\", \"celery\",\n",
    "        \"pea\", \"bean\", \"radicchio\", \"parsnip\", \"turnip\",\n",
    "    \n",
    "        # Global fruits\n",
    "        \"mango\", \"pineapple\", \"strawberry\", \"blueberry\", \"blackberry\",\n",
    "        \"raspberry\", \"pear\", \"peach\", \"plum\", \"cherry\", \"kiwi\",\n",
    "        \"watermelon\", \"melon\", \"guava\", \"lychee\", \"dragon fruit\",\n",
    "        \"fig\", \"dates\", \"apricot\", \"passion fruit\",\n",
    "     \"kosambari\", \"kachumber\", \"raita\", \"boondi raita\", \"vegetable raita\", \"fruit raita\",\n",
    "        \"pachadi\", \"thayir pachadi\", \"avial salad style\",  \n",
    "        \"sprout salad\", \"moong dal salad\", \"corn chaat\", \"fruit chaat\",\n",
    "        \"veg chaat\", \"green salad\", \"mixed veg salad\", \"beetroot salad\",  \n",
    "        \"paneer salad\", \"curd salad\", \"yogurt salad\", \"onion salad\", \"cabbage salad\", \n",
    "     \"kachumber\", \"laccha pyaaz\", \"raita\", \"boondi raita\", \"fruit raita\", \"paneer raita\",\n",
    "        \"pachadi\", \"thayir pachadi\", \"kosambari\", \"kosumalli\", \"singju\",\n",
    "        \"kala chana salad\", \"sprouted moong salad\", \"roasted peanut salad\",\n",
    "        \"beetroot carrot kosambari\", \"cabbage & curd mix\", \"fruit chaat\",\n",
    "        \"chickpea salad\"\n",
    "    ]  \n",
    "    st_k = [\n",
    "        # Indian veg fritters & variations\n",
    "        \"pakora\", \"pakoda\", \"bhaji\", \"bhajji\", \"bonda\", \"bajji\", \"vada\", \"vadai\",\n",
    "        \"methi pakora\", \"palak pakora\", \"mirchi pakora\", \"mirchi bajji\",\n",
    "        \"onion pakora\", \"onion pakoda\", \"onion bhaji\", \"onion bhajji\",\n",
    "    \n",
    "        # Popular Indian vegetarian starters\n",
    "        \"aloo tikki\", \"samosa\", \"paneer tikka\", \"paneer pakora\", \"paneer pakoda\",\n",
    "        \"paneer 65\", \"paneer manchurian\", \"veg cutlet\", \"veg spring roll\",\n",
    "        \"veg manchurian\", \"momos\", \"veg momos\", \"hara bhara kabab\",\n",
    "        \"dhokla\", \"khandvi\", \"sev puri\", \"pani puri\", \"golgappa\", \"phuchka\", \"gupchup\", \"batasha\",\n",
    "        \"dahi puri\", \"bhel puri\", \"papdi chaat\", \"chaat\", \"masala papad\",\n",
    "        \"corn tikki\", \"stuffed paneer\", \"tandoori mushroom\", \"baby corn manchurian\", \"gobi manchurian\",\n",
    "    \n",
    "        # South Indian snacks (often served as starters)\n",
    "        \"medu vada\", \"mendu vada\", \"methu vada\", \"masala vada\", \"paruppu vadai\",\n",
    "        \"idli fry\", \"mini idli\", \"punugulu\", \"mysore bonda\",\n",
    "    \n",
    "        # Indian non-veg starters\n",
    "        \"chicken tikka\", \"tandoori chicken\", \"chicken lollipop\",\n",
    "        \"chicken pakora\", \"chicken pakoda\", \"chicken 65\", \"dragon chicken\",\n",
    "        \"pepper chicken\", \"seekh kabab\", \"shami kabab\", \"reshmi kabab\",\n",
    "        \"malai tikka\", \"kalmi kabab\", \"mutton kabab\", \"mutton seekh\",\n",
    "        \"fish pakora\", \"fish pakoda\", \"fish fry\", \"fish tikka\",\n",
    "        \"prawn fry\", \"tandoori prawns\",\n",
    "        \"egg pakora\", \"egg pakoda\", \"egg bajji\", \"egg cutlet\", \"egg kebab\",\n",
    "        \"chicken wings\", \"buffalo wings\",\n",
    "    \n",
    "        # International starters\n",
    "        \"french fries\", \"garlic bread\", \"bruschetta\", \"nachos\", \"stuffed mushrooms\",\n",
    "        \"mozzarella sticks\", \"cheese balls\", \"jalapeno poppers\", \"deviled eggs\",\n",
    "        \"mini quiche\", \"dumplings\", \"spring rolls\", \"onion rings\",\n",
    "        \"tacos (starter size)\", \"quesadilla (small)\",\n",
    "    \n",
    "        # Soups (treated as starters)\n",
    "        \"soup\", \"tomato soup\", \"sweet corn soup\", \"hot and sour soup\",\n",
    "        \"manchow soup\", \"clear soup\", \"mushroom soup\", \"broccoli soup\",\n",
    "        \"pumpkin soup\", \"lentil soup\", \"chicken soup\", \"mutton soup\"\n",
    "    ]\n",
    "    beverages_k = [\n",
    "        # 🧋 North India\n",
    "        \"lassi\", \"sweet lassi\", \"salt lassi\", \"mango lassi\", \"chaas\", \"jaljeera\", \"rooh afza\",\n",
    "        \"thandai\", \"kesaria milk\", \"badam milk\", \"noon chai\", \"kahwa\", \"rabri milk\", \"sattu sharbat\",\n",
    "        \"nimbu pani\", \"aam panna\", \"bel sharbat\", \"rose sharbat\", \"imli sharbat\", \"carrot kanji\",\n",
    "        \"gur ka sharbat\", \"ganne ka juice\", \"sugarcane juice\",\n",
    "        \n",
    "        # 🍶 West India\n",
    "        \"solkadhi\", \"kokum sharbat\", \"chhaas\", \"amras\", \"feni\", \"neera\", \"toddy\", \"panha\",\n",
    "        \"rose milk\", \"aamras milkshake\", \"falooda\", \"mango milkshake\", \"sitaphal milkshake\",\n",
    "        \"kharwas milk drink\", \"kokum soda\", \"coconut water\", \"buttermilk soda\",\n",
    "        \n",
    "        # ☕ South India\n",
    "        \"filter coffee\", \"degree coffee\", \"sukku coffee\", \"rasam drink\", \"nannari sharbat\",\n",
    "        \"elaneer payasam\", \"pazham milk\", \"jigarthanda\", \"kulukki sarbath\", \"panakam\",\n",
    "        \"buttermilk (majige / majjiga / mor)\", \"kokum drink\", \"tender coconut water\",\n",
    "        \"herbal kashayam\", \"sol kadhi\", \"palm juice\", \"karupatti coffee\",\n",
    "        \n",
    "        # 🍵 East India\n",
    "        \"borhani\", \"sattu pani\", \"rice beer (handia)\", \"mahua drink\", \"apong\", \"zutho\", \"haozu\",\n",
    "        \"green tea (Assam / Darjeeling)\", \"lemongrass tea\", \"black tea\", \"lal cha\",\n",
    "        \"banta soda\", \"sugarcane juice\", \"nolen gur milkshake\",\n",
    "        \n",
    "        # 🍸 Central & Tribal India\n",
    "        \"mahua liquor\", \"handia\", \"salfi\", \"tadi\", \"date palm juice\", \"tendu sherbet\",\n",
    "        \"bael juice\", \"tamarind sharbat\", \"herbal tonics\", \"palm toddy\",\n",
    "        \n",
    "        # 🧃 Pan-India Popular Beverages\n",
    "        \"masala chai\", \"ginger tea\", \"lemon tea\", \"green tea\", \"milk tea\",\n",
    "        \"cold coffee\", \"iced coffee\", \"cold brew\", \"banana shake\", \"chocolate shake\",\n",
    "        \"rose milk\", \"cold badam milk\", \"kesariya milk\", \"horlicks milk\", \"bournvita milk\",\n",
    "        \"jaljeera soda\", \"mint lemonade\", \"orange juice\", \"mango juice\", \"pineapple juice\",\n",
    "        \n",
    "        # 🥛 Modern / Street & Fusion Drinks\n",
    "        \"bubble tea\", \"kulfi shake\", \"oreo shake\", \"kitkat shake\", \"strawberry milkshake\",\n",
    "        \"falooda\", \"dry fruit shake\", \"cold cocoa\", \"rabri falooda\", \"paan shot\",\n",
    "        \n",
    "        # 🍹 Festival & Ayurvedic Beveragesbeverages_k = beverages_india = [\n",
    "        # 🧋 North India\n",
    "        \"lassi\", \"sweet lassi\", \"salt lassi\", \"mango lassi\", \"chaas\", \"jaljeera\", \"rooh afza\",\n",
    "        \"thandai\", \"kesaria milk\", \"badam milk\", \"noon chai\", \"kahwa\", \"rabri milk\", \"sattu sharbat\",\n",
    "        \"nimbu pani\", \"aam panna\", \"bel sharbat\", \"rose sharbat\", \"imli sharbat\", \"carrot kanji\",\n",
    "        \"gur ka sharbat\", \"ganne ka juice\", \"sugarcane juice\",\n",
    "        \n",
    "        # 🍶 West India\n",
    "        \"solkadhi\", \"kokum sharbat\", \"chhaas\", \"amras\", \"feni\", \"neera\", \"toddy\", \"panha\",\n",
    "        \"rose milk\", \"aamras milkshake\", \"falooda\", \"mango milkshake\", \"sitaphal milkshake\",\n",
    "        \"kharwas milk drink\", \"kokum soda\", \"coconut water\", \"buttermilk soda\",\n",
    "        \n",
    "        # ☕ South India\n",
    "        \"filter coffee\", \"degree coffee\", \"sukku coffee\", \"rasam drink\", \"nannari sharbat\",\n",
    "        \"elaneer payasam\", \"pazham milk\", \"jigarthanda\", \"kulukki sarbath\", \"panakam\",\n",
    "        \"buttermilk (majige / majjiga / mor)\", \"kokum drink\", \"tender coconut water\",\n",
    "        \"herbal kashayam\", \"sol kadhi\", \"palm juice\", \"karupatti coffee\",\n",
    "        \n",
    "        # 🍵 East India\n",
    "        \"borhani\", \"sattu pani\", \"rice beer (handia)\", \"mahua drink\", \"apong\", \"zutho\", \"haozu\",\n",
    "        \"green tea (Assam / Darjeeling)\", \"lemongrass tea\", \"black tea\", \"lal cha\",\n",
    "        \"banta soda\", \"sugarcane juice\", \"nolen gur milkshake\",\n",
    "        \n",
    "        # 🍸 Central & Tribal India\n",
    "        \"mahua liquor\", \"handia\", \"salfi\", \"tadi\", \"date palm juice\", \"tendu sherbet\",\n",
    "        \"bael juice\", \"tamarind sharbat\", \"herbal tonics\", \"palm toddy\",\n",
    "        \n",
    "        # 🧃 Pan-India Popular Beverages\n",
    "        \"masala chai\", \"ginger tea\", \"lemon tea\", \"green tea\", \"milk tea\",\n",
    "        \"cold coffee\", \"iced coffee\", \"cold brew\", \"banana shake\", \"chocolate shake\",\n",
    "        \"rose milk\", \"cold badam milk\", \"kesariya milk\", \"horlicks milk\", \"bournvita milk\",\n",
    "        \"jaljeera soda\", \"mint lemonade\", \"orange juice\", \"mango juice\", \"pineapple juice\",\n",
    "        \n",
    "        # 🥛 Modern / Street & Fusion Drinks\n",
    "        \"bubble tea\", \"kulfi shake\", \"oreo shake\", \"kitkat shake\", \"strawberry milkshake\",\n",
    "        \"thandai\", \"holi thandai\", \"kanji\", \"sattu drink\", \"panchamrit\", \"amrit tulsi tea\",\n",
    "        \"turmeric milk\", \"golden milk\", \"kadha\", \"herbal decoction\", \"neem juice\"\n",
    "    \n",
    "         # North India\n",
    "        \"Lassi, Lah-si\",\n",
    "        \"Chhach, Chaach\",\n",
    "        \"Sattu Sharbat, Sut-too Shar-bat\",\n",
    "        \"Thandai, Thun-dai\",\n",
    "        \"Kesar Doodh, Kay-sar Doodh\",\n",
    "        \"Noon Chai, Noon Chaai\",\n",
    "        \"Kahwa, Kaa-va\",\n",
    "        \"Kanji, Kaan-jee\",\n",
    "    \n",
    "        # West India\n",
    "        \"Solkadhi, Sol-ka-dhi\",\n",
    "        \"Aam Panna, Aam Pan-na\",\n",
    "        \"Piyush, Pee-yush\",\n",
    "        \"Feni, Feh-nee\",\n",
    "        \"Kokum Sherbet, Ko-kum Sher-bet\",\n",
    "        \"Kesar Kasturi Doodh, Kay-sar Kas-too-ree Doodh\",\n",
    "        \"Chaas, Chaas\",\n",
    "    \n",
    "        # South India\n",
    "        \"Filter Coffee, Filter Kaapi\",\n",
    "        \"Jigarthanda, Ji-gar-than-da\",\n",
    "        \"Majjige, Maj-ji-gay\",\n",
    "        \"Panakam, Paa-na-kam\",\n",
    "        \"Tender Coconut Water, Elaneer\",\n",
    "        \"Ragi Malt, Raa-gee Malt\",\n",
    "        \"Sukku Coffee, Sook-ku Kaapi\",\n",
    "    \n",
    "        # East India\n",
    "        \"Borhani, Bor-ha-nee\",\n",
    "        \"Handia, Han-dee-ya\",\n",
    "        \"Mahua, Ma-hoo-aa\",\n",
    "        \"Apong, Ah-pong\",\n",
    "        \"Xaj Pani, Haaj Pani\",\n",
    "        \"Sabja Sharbat, Sub-ja Shar-bat\",\n",
    "    \n",
    "        # NorthEast Tribal\n",
    "        \"Zutho, Zoo-tho\",\n",
    "        \"Thuthse, Thoot-say\",\n",
    "        \"Yu, Yoo\",\n",
    "        \"Tongba, Tong-baa\",\n",
    "        \"Ki Kiad, Kee Kee-ad\",\n",
    "    \n",
    "        # Pan India Common\n",
    "        \"Chai, Chaai\",\n",
    "        \"Masala Chai, Masa-laa Chaai\",\n",
    "        \"Nimbu Pani, Nim-boo Paa-nee\",\n",
    "        \"Sugarcane Juice, Ganne ka Ras\",\n",
    "        \"Badam Milk, Baa-daam Milk\",\n",
    "        \"Rose Sharbat, Roaz Shar-bat\",\n",
    "        \"Falooda, Fa-loo-daa\"\n",
    "    ]\n",
    "    beverage_pronunciation = {\n",
    "        # North India\n",
    "        \"lassi\": \"Lah-si\",\n",
    "        \"chhach\": \"Chaach\",\n",
    "        \"sattu sharbat\": \"Sut-too Shar-bat\",\n",
    "        \"thandai\": \"Thun-dai\",\n",
    "        \"kesar doodh\": \"Kay-sar Doodh\",\n",
    "        \"noon chai\": \"Noon Chaai\",\n",
    "        \"kahwa\": \"Kaa-va\",\n",
    "        \"kanji\": \"Kaan-jee\",\n",
    "        \"nimbu pani\": \"Nim-boo Paa-nee\",\n",
    "        \"rose sharbat\": \"Roaz Shar-bat\",\n",
    "        \"badam milk\": \"Baa-daam Milk\",\n",
    "        \"falooda\": \"Fa-loo-daa\",\n",
    "    \n",
    "        # West India\n",
    "        \"solkadhi\": \"Sol-ka-dhi\",\n",
    "        \"aam panna\": \"Aam Pan-na\",\n",
    "        \"piyush\": \"Pee-yush\",\n",
    "        \"feni\": \"Feh-nee\",\n",
    "        \"kokum sharbat\": \"Ko-kum Shar-bet\",\n",
    "        \"kesar kasturi doodh\": \"Kay-sar Kas-too-ree Doodh\",\n",
    "        \"chaas\": \"Chaas\",\n",
    "    \n",
    "        # South India\n",
    "        \"filter coffee\": \"Filter Kaapi\",\n",
    "        \"jigarthanda\": \"Ji-gar-than-da\",\n",
    "        \"majige\": \"Maj-ji-gay\",\n",
    "        \"panakam\": \"Paa-na-kam\",\n",
    "        \"tender coconut water\": \"Elaneer\",\n",
    "        \"ragi malt\": \"Raa-gee Malt\",\n",
    "        \"sukku coffee\": \"Sook-ku Kaapi\",\n",
    "    \n",
    "        # East India\n",
    "        \"borhani\": \"Bor-ha-nee\",\n",
    "        \"handia\": \"Han-dee-ya\",\n",
    "        \"mahua drink\": \"Ma-hoo-aa\",\n",
    "        \"apong\": \"Ah-pong\",\n",
    "        \"xaj pani\": \"Haaj Pani\",\n",
    "        \"sabja sharbat\": \"Sub-ja Shar-bat\",\n",
    "    \n",
    "        # NorthEast Tribal\n",
    "        \"zutho\": \"Zoo-tho\",\n",
    "        \"thuthse\": \"Thoot-say\",\n",
    "        \"yu\": \"Yoo\",\n",
    "        \"tongba\": \"Tong-baa\",\n",
    "        \"ki kiad\": \"Kee Kee-ad\",\n",
    "    \n",
    "        # Pan India Common\n",
    "        \"chai\": \"Chaai\",\n",
    "        \"masala chai\": \"Masa-laa Chaai\",\n",
    "        \"sugarcane juice\": \"Ganne ka Ras\",\n",
    "    }\n",
    "    break_fast_k = [\n",
    "        # South India\n",
    "        \"idli\", \"vada\", \"pongal\", \"dosa\", \"sada dosa\", \"masala dosa\", \"uthappam\", \"puttu\", \"upma\", \"appam\",\n",
    "        \"palappam\", \"vellayappam\", \"idiyappam\", \"nool puttu\", \"noolappam\", \"shavige\", \"parotta\", \"pathiri\", \"pazham pori\",\n",
    "        \"masala dosa\", \"benne dosa\", \"mysore masala dosa\", \"set dosa\", \"rava idli\", \"akki rotti\", \"ragi mudde\",\n",
    "        \"uppittu\", \"bisi bele bath\", \"neer dosa\",\n",
    "        \"pesarattu\", \"mla pesarattu\", \"upma pesarattu\", \"dibba rotti\", \"pulihora\", \"tamarind rice\", \"jonna roti\", \"sajja roti\",\n",
    "    \n",
    "        # North India\n",
    "        \"paratha\", \"aloo paratha\", \"gobi paratha\", \"paneer paratha\", \"mooli paratha\",\n",
    "        \"poori with aloo sabzi\", \"chole bhature\", \"kulcha\", \"bread pakora\",\n",
    "        \"kachori with aloo sabzi\", \"bedmi poori\", \"thekua\", \"jalebi with milk\", \"puri sabzi\",\n",
    "        \"dal baati churma\", \"mirchi vada\", \"pyaz kachori\", \"mawa kachori\",\n",
    "        \"litti chokha\", \"sattu paratha\", \"chana ghugni with litti\",\n",
    "        \"poha jalebi\", \"samosa\", \"kachori\", \"bhutte ka kees\",\n",
    "    \n",
    "        # West India\n",
    "        \"poha\", \"kanda poha\", \"batata poha\", \"sabudana khichdi\", \"thalipeeth\", \"misal pav\", \"pav\", \"vada pav\",\n",
    "        \"thepla\", \"fafda jalebi\", \"khaman dhokla\", \"handvo\", \"khakhra\", \"sev khamani\", \"patra\", \"alu vadi\",\n",
    "        \"pav with bhaji\", \"ros omelette\", \"poi bread with chorizo\", \"poi bread with vegetable\",\n",
    "    \n",
    "        # East India\n",
    "        \"luchi with aloor torkari\", \"radhaballabhi\", \"chirer polao\", \"flattened rice\", \"mughlai paratha\",\n",
    "        \"ghugni\", \"panta bhaat\",\n",
    "        \"pakhala bhata\", \"bara\", \"chakuli pitha\", \"enduri pitha\", \"aloo chop\",\n",
    "        \"pitha\", \"til pitha\", \"narikol pitha\", \"chira doi gur\", \"jolpan\",\n",
    "        \"rice with vegetables\", \"momos\", \"khasi jadoh\", \"tungtap\",\n",
    "    \n",
    "        # Union Territories / Metro Influences\n",
    "        \"french bread\", \"croissant\", \"idli\", \"dosa\",\n",
    "        \"cornflakes\", \"sandwich\", \"bread butter\",\n",
    "        \"parantha with butter and curd\",\n",
    "        \"rice\", \"fish curry\", \"chapati\",\n",
    "    \n",
    "        # Common Pan-India Breakfasts\n",
    "        \"idli\", \"vada\", \"dosa\", \"upma\", \"pongal\", \"puttu\",\n",
    "        \"paratha\", \"poori sabzi\", \"kachori sabzi\",\n",
    "        \"poha\", \"chole bhature\", \"kulcha\",\n",
    "        \"bread butter\", \"bread pakora\", \"sandwich\",\n",
    "        \"tea biscuit\", \"coffee bun\", \"milk cornflakes\"\n",
    "    ]\n",
    "    soups_india = [\n",
    "        # North India\n",
    "        \"Rasam\",\n",
    "        \"Sambar\",\n",
    "        \"Mulligatawny Soup\",\n",
    "        \"Thukpa\",\n",
    "        \"Masor Tenga\",\n",
    "        \"Macher Jhol\",\n",
    "        \"Khar\",\n",
    "        \"Dal Shorba\",\n",
    "        \"Tomato Soup\",\n",
    "        \"Sweet Corn Soup\",\n",
    "        \"Vegetable Soup\",\n",
    "        \"Chicken Soup\",\n",
    "        \"Mutton Soup\",\n",
    "        \"Kadhi\",\n",
    "        \"Dal Makhani Soup\",\n",
    "        \"Sarson Da Saag Soup\",\n",
    "        \"Gatte Ki Sabzi Soup\",\n",
    "        \"Kadhi Pakora Soup\",\n",
    "        \n",
    "        # East India\n",
    "        \"Fish Soup\",\n",
    "        \"Prawn Soup\",\n",
    "        \"Shutki Fish Soup\",\n",
    "        \"Dalma\",\n",
    "        \"Machha Besara\",\n",
    "        \"Shorshe Ilish Soup\",\n",
    "        \n",
    "        # West India\n",
    "        \"Maharashtrian Spiced Soup\",\n",
    "        \"Pithla Bhakri Soup\",\n",
    "        \"Sol Kadhi\",\n",
    "        \"Handvo Soup\",\n",
    "        \"Bajra Khichdi Soup\",\n",
    "        \"Methi Thepla Soup\",\n",
    "        \n",
    "        # South India\n",
    "        \"Paruppu Rasam\",\n",
    "        \"Pepper Rasam\",\n",
    "        \"Bisi Bele Bath Soup\",\n",
    "        \"Ragi Soup\",\n",
    "        \"Vegetable Stew\",\n",
    "        \"Meen Curry Soup\",\n",
    "        \"Dal Bafla Soup\",\n",
    "        \"Poha Soup\",\n",
    "        \"Sannas Soup\",\n",
    "        \"Caldo Verde\",\n",
    "        \"Mulligatawny Soup\",  # already in North India, keep only once\n",
    "        \"Sattu Sharbat\",\n",
    "        \"Litti Chokha Soup\",\n",
    "        \n",
    "        # NorthEast / Tribal India\n",
    "        \"Thukpa\",  # already in North India\n",
    "        \"Paka Lawa\",\n",
    "        \"Eromba Soup\",\n",
    "        \"Ooti Soup\",\n",
    "        \"Jadoh Soup\",\n",
    "        \"Dohneiiong Soup\",\n",
    "        \"Bamboo Shoot Soup\",\n",
    "        \"Vawksa Rep\",\n",
    "        \"Smoked Pork Soup\",\n",
    "        \"Zutho Soup\",\n",
    "        \"Mui Borok\",\n",
    "        \"Wahan Macher Jhol\",\n",
    "        \"Sohphie Thukpa\",\n",
    "        \"Smoked Meat Soup\",\n",
    "        \n",
    "        # Pan-India / Popular Indo-Chinese / Fusion\n",
    "        \"Hot & Sour Soup\",\n",
    "        \"Lemon Coriander Soup\",\n",
    "        \"Manchow Soup\",\n",
    "        \"Talumein Soup\",\n",
    "        \"Clear Vegetable Soup\"\n",
    "    ]\n",
    "    \n",
    "    \n",
    "    \n",
    "    n=0\n",
    "    while n!=1:\n",
    "        print('pls type (over) if u have finished storing everything')\n",
    "        choice = input('if u want t , pls type yes : ').lower()\n",
    "        \n",
    "        \n",
    "        if choice == 'yes' :\n",
    "            veggies = input('pls enter your recipe [name] and also preparation time to it [Prep-Time] : ')\n",
    "            veg = veggies.split()\n",
    "            \n",
    "            norm = []\n",
    "            print(veg)\n",
    "            for i in veg:\n",
    "                if i in m_c_k:\n",
    "                    norm.append(i)\n",
    "                    print(f\" here are matched words with main_course {norm}\")\n",
    "                    if len(norm) == 1:\n",
    "                        print('its confirmed , it is a main_course')\n",
    "                        confirmation = input('if confirmed , pls type (yes)').lower()\n",
    "                        if confirmation == 'yes':\n",
    "                            print('Nice , lets start with your ingredients')\n",
    "                            return 7,veggies\n",
    "                        else:\n",
    "                            print('we didnt find your recipe [name] in our huge list.')\n",
    "                            print('even though u entered correctly , pls check the spelling of that recipe once , and re-enter.')\n",
    "                     \n",
    "                            \n",
    "                elif i in d_k:\n",
    "                    norm.append(i)\n",
    "                    print(f\" here are matched words with main_course {norm}\")\n",
    "                    if len(norm)==1:\n",
    "                        print('its confirmed , it is a dessert category')\n",
    "                        confirmation = input('if confirmed , pls type (yes)').lower()\n",
    "                        if confirmation == 'yes':\n",
    "                            print('Nice , lets start with your ingredients')\n",
    "                            return 9,veggies\n",
    "                        else:\n",
    "                            print('we didnt find your recipe [name] in our huge list.')\n",
    "                            print('even though u entered correctly , pls check the spelling of that recipe once , and re-enter.')\n",
    "                          \n",
    "                elif i in s_k:\n",
    "                    norm.append(i)\n",
    "                    print(f\" here are matched words with Salad {norm}\")\n",
    "                    if len(norm)==1:\n",
    "                        print('its confirmed , it is a Salad')\n",
    "                        confirmation = input('if confirmed , pls type (yes)').lower()\n",
    "                        if confirmation == 'yes':\n",
    "                            print('Nice , lets start with your ingredients')\n",
    "                            return 2,veggies\n",
    "                        else:\n",
    "                            print('we didnt find your recipe [name] in our huge list.')\n",
    "                            print('even though u entered correctly , pls check the spelling of that recipe once , and re-enter.')\n",
    "                            \n",
    "                    n=1\n",
    "                elif i in  st_k:\n",
    "                    norm.append(i)\n",
    "                    print(f\" here are matched words with Starter{norm}\")\n",
    "                    if len(norm)==1:\n",
    "                        print('its confirmed , it is a Starter')\n",
    "                        confirmation = input('if confirmed , pls type (yes)').lower()\n",
    "                        if confirmation == 'yes':\n",
    "                            print('Nice , lets start with your ingredients')\n",
    "                            return 1,veggies\n",
    "                        else:\n",
    "                            print('we didnt find your recipe [name] in our huge list.')\n",
    "                            print('even though u entered correctly , pls check the spelling of that recipe once , and re-enter.')\n",
    "                            \n",
    "                    n=1\n",
    "                elif i in break_fast_k:\n",
    "                    norm.append(i)\n",
    "                    print(f\" here are matched words with break fast {norm}\")\n",
    "                    if len(norm)==1:\n",
    "                        print('its confirmed , it is a break fast')\n",
    "                        confirmation = input('if confirmed , pls type (yes)').lower()\n",
    "                        if confirmation == 'yes':\n",
    "                            print('Nice , lets start with your ingredients')\n",
    "                            return 3,veggies\n",
    "                        else:\n",
    "                            print('we didnt find your recipe [name] in our huge list.')\n",
    "                            print('even though u entered correctly , pls check the spelling of that recipe once , and re-enter.')\n",
    "                            \n",
    "                    n=1\n",
    "                elif i in snacks_k:\n",
    "                    norm.append(i)\n",
    "                    print(f\" here are matched words with break fast {norm}\")\n",
    "                    if len(norm)==1:\n",
    "                        print('its confirmed , it is a snack')\n",
    "                        confirmation = input('if confirmed , pls type (yes)').lower()\n",
    "                        if confirmation == 'yes':\n",
    "                            print('Nice , lets start with your ingredients')\n",
    "                            return 4,veggies\n",
    "                        else:\n",
    "                            print('we didnt find your recipe [name] in our huge list.')\n",
    "                            print('even though u entered correctly , pls check the spelling of that recipe once , and re-enter.')\n",
    "                            \n",
    "                    n=1\n",
    "                elif i in beverages_k:\n",
    "                    norm.append(i)\n",
    "                    print(f\" here are matched words with break fast {norm}\")\n",
    "                    if len(norm)==1:\n",
    "                        print('its confirmed , it is a beverage')\n",
    "                        confirmation = input('if confirmed , pls type (yes)').lower()\n",
    "                        if confirmation == 'yes':\n",
    "                            print('Nice , lets start with your ingredients')\n",
    "                            return 5,veggies\n",
    "                        else:\n",
    "                            print('we didnt find your recipe [name] in our huge list.')\n",
    "                            print('even though u entered correctly , pls check the spelling of that recipe once , and re-enter.')\n",
    "                            \n",
    "                elif i in soups_india:\n",
    "                    norm.append(i)\n",
    "                    print(f\" here are matched words with break fast {norm}\")\n",
    "                    if len(norm)==1:\n",
    "                        print('its confirmed , it is a Soup')\n",
    "                        confirmation = input('if confirmed , pls type (yes)').lower()\n",
    "                        if confirmation == 'yes':\n",
    "                            print('Nice , lets start with your ingredients')\n",
    "                            return 6,veggies\n",
    "                        else:\n",
    "                            print('we didnt find your recipe [name] in our huge list.')\n",
    "                            print('even though u entered correctly , pls check the spelling of that recipe once , and re-enter.')\n",
    "        \n",
    "        elif:\n",
    "            side_dish = input('if it is sidedish pls type (Yes) or (No)').lower()\n",
    "            if side_dish == 'yes':\n",
    "                return 8\n",
    "            print('so its not sidedish')\n",
    "            print('its not present in our list also. ')\n",
    "            print('so pls say if your dishes belong to any of this list [ Appetizers / Starters,\tSalads,\tBreakfast,\tSnacks,\tBeverages,\tSoups, Main Courses, Desserts ]')\n",
    "            print('If not we are adding it to our side dishes column')\n",
    "            print('pls write your choice')\n",
    "            choose = input('pls enter can we keep in any list [ Appetizers / Starters,\tSalads,\tBreakfast,\tSnacks,\tBeverages,\tSoups, Main_Courses, Desserts ] or in (side dishes)').lower()\n",
    "            if choose == 'starter':\n",
    "                return 1,veggies\n",
    "            elif choose=='salad':\n",
    "                return 2,veggies\n",
    "            elif choose=='breakfast':\n",
    "                return 3,veggies\n",
    "            elif choose=='snack':\n",
    "                return 4,veggies\n",
    "            elif choose=='beverage':\n",
    "                return 5,veggies\n",
    "            elif choose=='soup':\n",
    "                return 6,veggies\n",
    "            elif choose == 'main_course':\n",
    "                return 7,veggies\n",
    "            elif choose == 'desserts':\n",
    "                return 9,veggies\n",
    "        elif choice == 'over':\n",
    "            print('yes u are quitting now')\n",
    "            break\n",
    "        else:\n",
    "        \n",
    "            print('if u want to store pls type according to given instructions')  \n",
    "            \n"
   ]
  },
  {
   "cell_type": "code",
   "execution_count": null,
   "id": "26023aed-711a-45bd-b28a-ba8f9b9693aa",
   "metadata": {},
   "outputs": [],
   "source": [
    " starters = 1 salads = 2 , breakfast = 3 , snacks = 4 , beverages  = 5 , soups = 6 , main_courses = 7,side_dishes = 8 , desserts = 9"
   ]
  },
  {
   "cell_type": "code",
   "execution_count": null,
   "id": "11848831-755e-4073-9673-1cf1e255b8fd",
   "metadata": {},
   "outputs": [],
   "source": [
    "\tVegetables\tFruits\tItems(Dairy Products & Meat-Seafood & Packaged Items)\tGrains\tLentils\tNuts & Seeds\tHerbs / Aromatics\tSpices / Powders\tSauces / Condiments\tOils / Fats\n",
    "44\tAppetizers / Starters\tSalads\tBreakfast\tSnacks\tBeverages\tSoups\tMain Courses\tSide Dishes\tDesserts\t"
   ]
  },
  {
   "cell_type": "code",
   "execution_count": null,
   "id": "a83c2ae8-05ce-4edf-8e30-b761e63e5359",
   "metadata": {},
   "outputs": [],
   "source": [
    "f.close()"
   ]
  },
  {
   "cell_type": "code",
   "execution_count": null,
   "id": "2cfd3375-5885-49c9-95ec-b3f143e21cc8",
   "metadata": {},
   "outputs": [],
   "source": [
    "'''directors taking months to write character and write thier pulses ,but this guy just hearing it once from director , gives the music perfectly appt to that character'''"
   ]
  },
  {
   "cell_type": "code",
   "execution_count": 197,
   "id": "890c5169-70ed-4608-b912-d27251c01221",
   "metadata": {},
   "outputs": [
    {
     "data": {
      "text/plain": [
       "13"
      ]
     },
     "execution_count": 197,
     "metadata": {},
     "output_type": "execute_result"
    }
   ],
   "source": [
    "import csv\n",
    "f = open('prac.csv','a+',encoding='utf-8')\n",
    "r=csv.writer(f)\n",
    "r.writerow(['tomato soup'])\n"
   ]
  },
  {
   "cell_type": "code",
   "execution_count": 199,
   "id": "eee911ad-f05d-4699-a630-a13b704df221",
   "metadata": {},
   "outputs": [],
   "source": [
    "# Upgrade pandas\n",
    "f.close()\n"
   ]
  },
  {
   "cell_type": "code",
   "execution_count": null,
   "id": "87e64dd6-d859-49e5-8bf4-67277c84195f",
   "metadata": {},
   "outputs": [],
   "source": []
  },
  {
   "cell_type": "code",
   "execution_count": null,
   "id": "4ce09d6c-7a44-42bd-8e4d-60b723d14a6f",
   "metadata": {},
   "outputs": [],
   "source": [
    "import pandas as p\n",
    "df =p.read_excel('prac.xlsx')\n",
    "print(df)\n"
   ]
  },
  {
   "cell_type": "code",
   "execution_count": null,
   "id": "b22d647d-8160-4727-9361-5f646bf49ad1",
   "metadata": {},
   "outputs": [],
   "source": [
    "pip install numpy==1.26.4 pandas==2"
   ]
  },
  {
   "cell_type": "code",
   "execution_count": null,
   "id": "cbc8e779-4d06-449e-9af2-95950d1bbe24",
   "metadata": {},
   "outputs": [],
   "source": [
    "pip install openpyxl\n"
   ]
  },
  {
   "cell_type": "code",
   "execution_count": null,
   "id": "175d04ef-0acb-4c6f-8104-69acd4e28d04",
   "metadata": {},
   "outputs": [],
   "source": [
    "import pandas as pd"
   ]
  },
  {
   "cell_type": "code",
   "execution_count": null,
   "id": "8ff955a2-51bf-4905-9a60-87c834fa73ac",
   "metadata": {},
   "outputs": [],
   "source": [
    "f.close()"
   ]
  },
  {
   "cell_type": "code",
   "execution_count": null,
   "id": "172559ff-56dd-4770-804c-1019fefc7d75",
   "metadata": {},
   "outputs": [],
   "source": [
    "import csv\n",
    "starter_f = open('starter.csv','a+',encoding='utf-8')\n",
    "starters = csv.writer(starter_f)\n",
    "starters.writerow(['Appetizers / Starters', 'Salads', 'Breakfast', 'Snacks', 'Beverages', 'Soups',  'Main Courses', 'Side Dishes', 'Desserts'])\n"
   ]
  },
  {
   "cell_type": "code",
   "execution_count": null,
   "id": "c59fc777-b4a6-4e01-934d-e5d0e43d4f35",
   "metadata": {},
   "outputs": [],
   "source": [
    "\n",
    "def ingredients(self):\n",
    "    no , recipe_name = recipe_name()\n",
    "    \n",
    "    if no== 1 :\n",
    "        starter_f = open('starter.csv','a+',encoding='utf-8')\n",
    "        starters = csv.writer(starter_f)\n",
    "        starters.writerow(recipe_name)\n",
    "        starters.writerow(['Sl-No, Recipes, Vegetables,\tFruits,\tItems(Dairy Products & Meat-Seafood & Packaged Items),\tGrains,\tLentils, Nuts (seeds),\tHerbs (Aromatics),\tSpices (Powders),\tSauces ( Condiments), Oils (Fats)'])\n",
    "        ingre= input('pls say what you would like to enter first in this [Vegetables, Fruits, Items(Dairy Products & Meat-Seafood & Packaged Items), Grains, Lentils, Nuts & Seeds, Herbs / Aromatics, Spices / Powders, Sauces / Condiments, Oils / Fats]').lower()\n",
    "        if ingre== 'vegetables':\n",
    "            print('pls leave a spacebar after entering each item ')\n",
    "            vegetab = input('so pls enter your vegetables: ')\n",
    "            starters.writerow(['','',vegetab,'','','','','','','',''])\n",
    "        elif ingre == 'fruits':\n",
    "            print('pls leave a spacebar after entering each item ')\n",
    "            fruit = input('so pls enter your fruits: ')\n",
    "            starters.writerow(['','','',fruit,'','','','','','',''])\n",
    "        elif ingre == 'items':\n",
    "            print('pls leave a spacebar after entering each item ')\n",
    "            items = input('so pls enter your items: ')\n",
    "            starters.writerow(['','','','',items,'','','','','',''])\n",
    "        elif ingre == 'grains':\n",
    "            print('pls leave a spacebar after entering each item ')\n",
    "            grains = input('so pls enter your grains: ')\n",
    "            starters.writerow(['','','','','',grains,'','','','',''])\n",
    "        elif ingre == 'nuts':\n",
    "            print('pls leave a spacebar after entering each nuts ')\n",
    "            nuts = input('so pls enter your nuts: ')\n",
    "            starters.writerow(['','','','','','',nuts,'','','',''])\n",
    "        elif ingre == 'herbs':\n",
    "            print('pls leave a spacebar after entering each item ')\n",
    "            herbs = input('so pls enter your herbs: ')\n",
    "            starters.writerow(['','','','','','','',herbs,'','',''])\n",
    "        elif ingre == 'spices':\n",
    "            print('pls leave a spacebar after entering each item ')\n",
    "            spices = input('so pls enter your spices: ')\n",
    "            starters.writerow(['','','','','','','','',spices,'',''])\n",
    "        elif ingre == 'sauces':\n",
    "            print('pls leave a spacebar after entering each item ')\n",
    "            sauces = input('so pls enter your sauces: ')\n",
    "            starters.writerow(['','','','','','','','','',sauces,''])\n",
    "        elif ingre == 'oils':\n",
    "            print('pls leave a spacebar after entering each item ')\n",
    "            oils = input('so pls enter your oils: ')\n",
    "            starters.writerow(['','','','','','','','','','',oils])  \n",
    "        \n",
    "        os.startfile(\"C:\\\\Users\\\\sampa\\\\Downloads\\\\breast caner dataset\\\\manifest-ZkhPvrLo5216730872708713142\\\\metadata.csv\")\n",
    "    \n",
    "    elif no == 2:\n",
    "        salads_f = open('salads.csv','a+',encoding ='utf-8')\n",
    "        salads = csv.writer(salads_f)\n",
    "        salads.writerow(['Vegetables,\tFruits,\tItems(Dairy Products & Meat-Seafood & Packaged Items),\tGrains,\tLentils\tNuts & Seeds,\tHerbs / Aromatics,\tSpices / Powders,\tSauces / Condiments\tOils / Fats'])\n",
    "        ingre= input('pls say what you would like to enter first in this [Vegetables, Fruits, Items(Dairy Products & Meat-Seafood & Packaged Items), Grains, Lentils, Nuts & Seeds, Herbs / Aromatics, Spices / Powders, Sauces / Condiments, Oils / Fats]').lower()\n",
    "        if ingre== 'vegetables':\n",
    "            print('pls leave a spacebar after entering each item ')\n",
    "            vegetab = input('so pls enter your vegetables: ')\n",
    "            salads.writerow(['','',vegetab,'','','','','','','',''])\n",
    "        elif ingre == 'fruits':\n",
    "            print('pls leave a spacebar after entering each item ')\n",
    "            fruit = input('so pls enter your fruits: ')\n",
    "            salads.writerow(['','','',fruit,'','','','','','',''])\n",
    "        elif ingre == 'items':\n",
    "            print('pls leave a spacebar after entering each item ')\n",
    "            items = input('so pls enter your items: ')\n",
    "            salads.writerow(['','','','',items,'','','','','',''])\n",
    "        elif ingre == 'grains':\n",
    "            print('pls leave a spacebar after entering each item ')\n",
    "            grains = input('so pls enter your grains: ')\n",
    "            salads.writerow(['','','','','',grains,'','','','',''])\n",
    "        elif ingre == 'nuts':\n",
    "            print('pls leave a spacebar after entering each nuts ')\n",
    "            nuts = input('so pls enter your nuts: ')\n",
    "            salads.writerow(['','','','','','',nuts,'','','',''])\n",
    "        elif ingre == 'herbs':\n",
    "            print('pls leave a spacebar after entering each item ')\n",
    "            herbs = input('so pls enter your herbs: ')\n",
    "            salads.writerow(['','','','','','','',herbs,'','',''])\n",
    "        elif ingre == 'spices':\n",
    "            print('pls leave a spacebar after entering each item ')\n",
    "            spices = input('so pls enter your spices: ')\n",
    "            salads.writerow(['','','','','','','','',spices,'',''])\n",
    "        elif ingre == 'sauces':\n",
    "            print('pls leave a spacebar after entering each item ')\n",
    "            sauces = input('so pls enter your sauces: ')\n",
    "            salads.writerow(['','','','','','','','','',sauces,''])\n",
    "        elif ingre == 'oils':\n",
    "            print('pls leave a spacebar after entering each item ')\n",
    "            oils = input('so pls enter your oils: ')\n",
    "            salads.writerow(['','','','','','','','','','',oils]) \n",
    "\n",
    "    elif no == 3:\n",
    "        \n",
    "        breakfast_f = open('breakfast.csv','a+',encoding='utf-8')\n",
    "        breakfast = csv.writer(breakfast_f)\n",
    "        breakfast.writerow(['Vegetables,\tFruits,\tItems(Dairy Products & Meat-Seafood & Packaged Items),\tGrains,\tLentils\tNuts & Seeds,\tHerbs / Aromatics,\tSpices / Powders,\tSauces / Condiments\tOils / Fats'])\n",
    "        ingre= input('pls say what you would like to enter first in this [Vegetables, Fruits, Items(Dairy Products & Meat-Seafood & Packaged Items), Grains, Lentils, Nuts & Seeds, Herbs / Aromatics, Spices / Powders, Sauces / Condiments, Oils / Fats]').lower()\n",
    "        if ingre== 'vegetables':\n",
    "            print('pls leave a spacebar after entering each item ')\n",
    "            vegetab = input('so pls enter your vegetables: ')\n",
    "            breakfast.writerow([vegetab,'','','','','','','',''])\n",
    "        elif ingre == 'fruits':\n",
    "            print('pls leave a spacebar after entering each item ')\n",
    "            fruit = input('so pls enter your fruits: ')\n",
    "            breakfast.writerow(['',fruit,'','','','','','',''])\n",
    "        elif ingre == 'items':\n",
    "            print('pls leave a spacebar after entering each item ')\n",
    "            items = input('so pls enter your items: ')\n",
    "            breakfast.writerow(['','',items,'','','','','',''])\n",
    "        elif ingre == 'grains':\n",
    "            print('pls leave a spacebar after entering each item ')\n",
    "            grains = input('so pls enter your grains: ')\n",
    "            breakfast.writerow(['','','',grains,'','','','',''])\n",
    "        elif ingre == 'nuts':\n",
    "            print('pls leave a spacebar after entering each nuts ')\n",
    "            nuts = input('so pls enter your nuts: ')\n",
    "            breakfast.writerow(['','','','',nuts,'','','',''])\n",
    "        elif ingre == 'herbs':\n",
    "            print('pls leave a spacebar after entering each item ')\n",
    "            herbs = input('so pls enter your herbs: ')\n",
    "            breakfast.writerow(['','','','','',herbs,'','',''])\n",
    "        elif ingre == 'spices':\n",
    "            print('pls leave a spacebar after entering each item ')\n",
    "            spices = input('so pls enter your spices: ')\n",
    "            breakfast.writerow(['','','','','','',spices,'',''])\n",
    "        elif ingre == 'sauces':\n",
    "            print('pls leave a spacebar after entering each item ')\n",
    "            sauces = input('so pls enter your sauces: ')\n",
    "            breakfast.writerow(['','','','','','','',sauces,''])\n",
    "        elif ingre == 'oils':\n",
    "            print('pls leave a spacebar after entering each item ')\n",
    "            oils = input('so pls enter your oils: ')\n",
    "            breakfast.writerow(['','','','','','','','',oils])\n",
    "            \n",
    "    elif no == 4:\n",
    "        snacks_f = open('snacks.csv','a+',encoding = 'utf-8')\n",
    "        snacks = csv.writer(snacks_f)\n",
    "        snacks.writerow(['Vegetables,\tFruits,\tItems(Dairy Products & Meat-Seafood & Packaged Items,\tGrains,\tLentils\tNuts & Seeds,\tHerbs / Aromatics,\tSpices / Powders,\tSauces / Condiments\tOils / Fats'])\n",
    "        print('pls print (over) if you have finished writing everything.')\n",
    "        while True:\n",
    "            ingre= input('pls say what you would like to enter first in this [Vegetables, Fruits, Items(Dairy Products & Meat-Seafood & Packaged Items), Grains, Lentils, Nuts & Seeds, Herbs / Aromatics, Spices / Powders, Sauces / Condiments, Oils / Fats]').lower()\n",
    "            if ingre== 'vegetables':\n",
    "                print('pls leave a spacebar after entering each item ')\n",
    "                vegetab = input('so pls enter your vegetables: ')\n",
    "                snacks.writerow([vegetab,'','','','','','','',''])\n",
    "            elif ingre == 'fruits':        \n",
    "                print('pls leave a spacebar after entering each item ')\n",
    "                fruit = input('so pls enter your fruits: ')\n",
    "                snacks.writerow(['',fruit,'','','','','','',''])\n",
    "            elif ingre == 'items':\n",
    "                print('pls leave a spacebar after entering each item ')         \n",
    "                items = input('so pls enter your items: ')\n",
    "                snacks.writerow(['','',items,'','','','','',''])\n",
    "            elif ingre == 'grains':\n",
    "                print('pls leave a spacebar after entering each item ')\n",
    "                grains = input('so pls enter your grains: ')\n",
    "                snacks.writerow(['','','',grains,'','','','',''])\n",
    "            elif ingre == 'nuts':\n",
    "                print('pls leave a spacebar after entering each nuts ')\n",
    "                nuts = input('so pls enter your nuts: ')\n",
    "                snacks.writerow(['','','','',nuts,'','','',''])\n",
    "            elif ingre == 'herbs':\n",
    "                print('pls leave a spacebar after entering each item ')\n",
    "                herbs = input('so pls enter your herbs: ')\n",
    "                snacks.writerow(['','','','','',herbs,'','',''])\n",
    "            elif ingre == 'spices':\n",
    "                print('pls leave a spacebar after entering each item ')\n",
    "                spices = input('so pls enter your spices: ')\n",
    "                snacks.writerow(['','','','','','',spices,'',''])\n",
    "            elif ingre == 'sauces':\n",
    "                print('pls leave a spacebar after entering each item ')\n",
    "                sauces = input('so pls enter your sauces: ')\n",
    "                snacks.writerow(['','','','','','','',sauces,''])\n",
    "            elif ingre == 'oils':\n",
    "                print('pls leave a spacebar after entering each item ')\n",
    "                oils = input('so pls enter your oils: ')\n",
    "                snacks.writerow(['','','','','','','','',oils])\n",
    "            \n",
    "    elif no == 5:\n",
    "\n",
    "        beverages_f = open('beverages.csv','a+',encoding='utf-8')\n",
    "        beverages = csv.writer(beverages_f)\n",
    "        print('pls type (over) if you finished storing.')\n",
    "        beverages.writerow(['Vegetables,\tFruits,\tItems(Dairy Products & Meat-Seafood & Packaged Items),\tGrains,\tLentils\tNuts & Seeds,\tHerbs / Aromatics,\tSpices / Powders,\tSauces / Condiments\tOils / Fats'])\n",
    "        print('pls print (over) if you have finished writing everything.')\n",
    "        while True:\n",
    "            while True:\n",
    "                ingre= input('pls say what you would like to enter first in this [Vegetables, Fruits, Items(Dairy Products & Meat-Seafood & Packaged Items), Grains, Lentils, Nuts & Seeds, Herbs / Aromatics, Spices / Powders, Sauces / Condiments, Oils / Fats]').lower()\n",
    "                if ingre== 'vegetables':\n",
    "                    print('pls leave a spacebar after entering each item ')\n",
    "                    vegetab = input('so pls enter your vegetables: ')\n",
    "                    beverages.writerow([vegetab,'','','','','','','',''])\n",
    "                elif ingre == 'fruits':           \n",
    "                    print('pls leave a spacebar after entering each item ')\n",
    "                    fruit = input('so pls enter your fruits: ')\n",
    "                    beverages.writerow(['',fruit,'','','','','','',''])\n",
    "                elif ingre == 'items':\n",
    "                    print('pls leave a spacebar after entering each item ')         \n",
    "                    items = input('so pls enter your items: ')\n",
    "                    beverages.writerow(['','',items,'','','','','',''])\n",
    "                elif ingre == 'grains':\n",
    "                    print('pls leave a spacebar after entering each item ')\n",
    "                    grains = input('so pls enter your grains: ')\n",
    "                    beverages.writerow(['','','',grains,'','','','',''])\n",
    "                elif ingre == 'nuts':\n",
    "                    print('pls leave a spacebar after entering each nuts ')\n",
    "                    nuts = input('so pls enter your nuts: ')\n",
    "                    beverages.writerow(['','','','',nuts,'','','',''])\n",
    "                elif ingre == 'herbs':\n",
    "                    print('pls leave a spacebar after entering each item ')\n",
    "                    herbs = input('so pls enter your herbs: ')\n",
    "                    beverages.writerow(['','','','','',herbs,'','',''])\n",
    "                elif ingre == 'spices':\n",
    "                    print('pls leave a spacebar after entering each item ')\n",
    "                    spices = input('so pls enter your spices: ')\n",
    "                    beverages.writerow(['','','','','','',spices,'',''])\n",
    "                elif ingre == 'sauces':\n",
    "                    print('pls leave a spacebar after entering each item ')\n",
    "                    sauces = input('so pls enter your sauces: ')\n",
    "                    beverages.writerow(['','','','','','','',sauces,''])\n",
    "                elif ingre == 'oils':\n",
    "                    print('pls leave a spacebar after entering each item ')\n",
    "                    oils = input('so pls enter your oils: ')\n",
    "                    beverages.writerow(['','','','','','','','',oils]) \n",
    "                elif ingre=='over':\n",
    "                    break\n",
    "            print('So you have finished storing everything, pls review and edit it ,if any mistake/errors are present')\n",
    "            recorrect = input(f'your current {}   : ')\n",
    "    elif no == 6:\n",
    "        soups_f = open('soups.csv','a+',encoding='utf-8')\n",
    "        soups = csv.writer(soups_f)\n",
    "        soups.writerow(['Vegetables,\tFruits,\tItems(Dairy Products & Meat-Seafood & Packaged Items),\tGrains,\tLentils\tNuts & Seeds,\tHerbs / Aromatics,\tSpices / Powders,\tSauces / Condiments\tOils / Fats'])\n",
    "        ingre= input('pls say what you would like to enter first in this [Vegetables, Fruits, Items(Dairy Products & Meat-Seafood & Packaged Items), Grains, Lentils, Nuts & Seeds, Herbs / Aromatics, Spices / Powders, Sauces / Condiments, Oils / Fats]').lower()\n",
    "        if ingre== 'vegetables':\n",
    "            print('pls leave a spacebar after entering each item ')\n",
    "            vegetab = input('so pls enter your vegetables: ')\n",
    "            soups.writerow([vegetab,'','','','','','','',''])\n",
    "        elif ingre == 'fruits':          \n",
    "            print('pls leave a spacebar after entering each item ')\n",
    "            fruit = input('so pls enter your fruits: ')\n",
    "            soups.writerow(['',fruit,'','','','','','',''])\n",
    "        elif ingre == 'items':\n",
    "            print('pls leave a spacebar after entering each item ')          \n",
    "            items = input('so pls enter your items: ')\n",
    "            soups.writerow(['','',items,'','','','','',''])\n",
    "        elif ingre == 'grains':\n",
    "            print('pls leave a spacebar after entering each item ')\n",
    "            grains = input('so pls enter your grains: ')\n",
    "            soups.writerow(['','','',grains,'','','','',''])\n",
    "        elif ingre == 'nuts':\n",
    "            print('pls leave a spacebar after entering each nuts ')\n",
    "            nuts = input('so pls enter your nuts: ')\n",
    "            soups.writerow(['','','','',nuts,'','','',''])\n",
    "        elif ingre == 'herbs':\n",
    "            print('pls leave a spacebar after entering each item ')\n",
    "            herbs = input('so pls enter your herbs: ')\n",
    "            soups.writerow(['','','','','',herbs,'','',''])\n",
    "        elif ingre == 'spices':\n",
    "            print('pls leave a spacebar after entering each item ')\n",
    "            spices = input('so pls enter your spices: ')\n",
    "            soups.writerow(['','','','','','',spices,'',''])\n",
    "        elif ingre == 'sauces':\n",
    "            print('pls leave a spacebar after entering each item ')\n",
    "            sauces = input('so pls enter your sauces: ')\n",
    "            soups.writerow(['','','','','','','',sauces,''])\n",
    "        elif ingre == 'oils':\n",
    "            print('pls leave a spacebar after entering each item ')\n",
    "            oils = input('so pls enter your oils: ')\n",
    "            soups.writerow(['','','','','','','','',oils])\n",
    "\n",
    "    elif no == 7:\n",
    "        main_courses_f open('maincourses.csv','a+',encoding='utf-8')\n",
    "        main_courses = csv.writer(main_courses_f)\n",
    "        main_courses.writerow(['Vegetables,\tFruits,\tItems(Dairy Products & Meat-Seafood & Packaged Items),\tGrains,\tLentils\tNuts & Seeds,\tHerbs / Aromatics,\tSpices / Powders,\tSauces / Condiments\tOils / Fats'])\n",
    "        ingre= input('pls say what you would like to enter first in this [Vegetables, Fruits, Items(Dairy Products & Meat-Seafood & Packaged Items), Grains, Lentils, Nuts & Seeds, Herbs / Aromatics, Spices / Powders, Sauces / Condiments, Oils / Fats]').lower()\n",
    "        if ingre== 'vegetables':\n",
    "            print('pls leave a spacebar after entering each item ')\n",
    "            vegetab = input('so pls enter your vegetables: ')\n",
    "            main_courses.writerow([vegetab,'','','','','','','',''])\n",
    "        elif ingre == 'fruits':\n",
    "            print('pls leave a spacebar after entering each item ')  \n",
    "            fruit = input('so pls enter your fruits: ')\n",
    "            main_courses.writerow(['',fruit,'','','','','','',''])\n",
    "        elif ingre == 'items':\n",
    "            print('pls leave a spacebar after entering each item ')           \n",
    "            items = input('so pls enter your items: ')\n",
    "            main_courses.writerow(['','',items,'','','','','',''])\n",
    "        elif ingre == 'grains':\n",
    "            print('pls leave a spacebar after entering each item ')\n",
    "            grains = input('so pls enter your grains: ')\n",
    "            main_courses.writerow(['','','',grains,'','','','',''])\n",
    "        elif ingre == 'nuts':\n",
    "            print('pls leave a spacebar after entering each nuts ')\n",
    "            nuts = input('so pls enter your nuts: ')\n",
    "            main_courses.writerow(['','','','',nuts,'','','',''])\n",
    "        elif ingre == 'herbs':\n",
    "            print('pls leave a spacebar after entering each item ')\n",
    "            herbs = input('so pls enter your herbs: ')\n",
    "            main_courses.writerow(['','','','','',herbs,'','',''])\n",
    "        elif ingre == 'spices':\n",
    "            print('pls leave a spacebar after entering each item ')\n",
    "            spices = input('so pls enter your spices: ')\n",
    "            main_courses.writerow(['','','','','','',spices,'',''])\n",
    "        elif ingre == 'sauces':\n",
    "            print('pls leave a spacebar after entering each item ')\n",
    "            sauces = input('so pls enter your sauces: ')\n",
    "            main_courses.writerow(['','','','','','','',sauces,''])\n",
    "        elif ingre == 'oils':\n",
    "            print('pls leave a spacebar after entering each item ')\n",
    "            oils = input('so pls enter your oils: ')\n",
    "            main_courses.writerow(['','','','','','','','',oils])\n",
    "\n",
    "    elif no == 8:\n",
    "        side_dishes_f = open('side_dishes.csv','a+',encoding='utf-8')\n",
    "        side_dishes = csv.writer(side_dishes_f)\n",
    "        side_dishes.writerow(['Vegetables,\tFruits,\tItems(Dairy Products & Meat-Seafood & Packaged Items),\tGrains,\tLentils\tNuts & Seeds,\tHerbs / Aromatics,\tSpices / Powders,\tSauces / Condiments\tOils / Fats'])\n",
    "        ingre= input('pls say what you would like to enter first in this [Vegetables, Fruits, Items(Dairy Products & Meat-Seafood & Packaged Items), Grains, Lentils, Nuts & Seeds, Herbs / Aromatics, Spices / Powders, Sauces / Condiments, Oils / Fats]').lower()\n",
    "        if ingre== 'vegetables':\n",
    "            print('pls leave a spacebar after entering each item ')\n",
    "            vegetab = input('so pls enter your vegetables: ')\n",
    "            side_dishes.writerow([vegetab,'','','','','','','',''])\n",
    "        elif ingre == 'fruits':\n",
    "            print('pls leave a spacebar after entering each item ')\n",
    "            fruit = input('so pls enter your fruits: ')\n",
    "            side_dishes.writerow(['',fruit,'','','','','','',''])\n",
    "        elif ingre == 'items':\n",
    "            print('pls leave a spacebar after entering each item ')\n",
    "           \n",
    "            items = input('so pls enter your items: ')\n",
    "            side_dishes.writerow(['','',items,'','','','','',''])\n",
    "        elif ingre == 'grains':\n",
    "            print('pls leave a spacebar after entering each item ')\n",
    "            grains = input('so pls enter your grains: ')\n",
    "            side_dishes.writerow(['','','',grains,'','','','',''])\n",
    "        elif ingre == 'nuts':\n",
    "            print('pls leave a spacebar after entering each nuts ')\n",
    "            nuts = input('so pls enter your nuts: ')\n",
    "            side_dishes.writerow(['','','','',nuts,'','','',''])\n",
    "        elif ingre == 'herbs':\n",
    "            print('pls leave a spacebar after entering each item ')\n",
    "            herbs = input('so pls enter your herbs: ')\n",
    "            side_dishes.writerow(['','','','','',herbs,'','',''])\n",
    "        elif ingre == 'spices':\n",
    "            print('pls leave a spacebar after entering each item ')\n",
    "            spices = input('so pls enter your spices: ')\n",
    "            side_dishes.writerow(['','','','','','',spices,'',''])\n",
    "        elif ingre == 'sauces':\n",
    "            print('pls leave a spacebar after entering each item ')\n",
    "            sauces = input('so pls enter your sauces: ')\n",
    "            side_dishes.writerow(['','','','','','','',sauces,''])\n",
    "        elif ingre == 'oils':\n",
    "            print('pls leave a spacebar after entering each item ')\n",
    "            oils = input('so pls enter your oils: ')\n",
    "            side_dishes.writerow(['','','','','','','','',oils])\n",
    "            \n",
    "    elif no == 9:\n",
    "        desserts_f = open('desserts.csv','a+',encoding='utf-8')\n",
    "        desserts = csv.writer(desserts_f)\n",
    "        desserts.writerow(['Vegetables,\tFruits,\tItems(Dairy Products & Meat-Seafood & Packaged Items),\tGrains,\tLentils\tNuts & Seeds,\tHerbs / Aromatics,\tSpices / Powders,\tSauces / Condiments\tOils / Fats'])\n",
    "        ingre= input('pls say what you would like to enter first in this [Vegetables, Fruits, Items(Dairy Products & Meat-Seafood & Packaged Items), Grains, Lentils, Nuts & Seeds, Herbs / Aromatics, Spices / Powders, Sauces / Condiments, Oils / Fats]').lower()\n",
    "        if ingre== 'vegetables':\n",
    "            print('pls leave a spacebar after entering each item ')\n",
    "            vegetab = input('so pls enter your vegetables: ')\n",
    "            desserts.writerow([vegetab,'','','','','','','',''])\n",
    "        elif ingre == 'fruits':\n",
    "            print('pls leave a spacebar after entering each item ')\n",
    "            fruit = input('so pls enter your fruits: ')\n",
    "            desserts.writerow(['',fruit,'','','','','','',''])\n",
    "        elif ingre == 'items':\n",
    "            print('pls leave a spacebar after entering each item ')           \n",
    "            items = input('so pls enter your items: ')\n",
    "            desserts.writerow(['','',items,'','','','','',''])\n",
    "        elif ingre == 'grains':\n",
    "            print('pls leave a spacebar after entering each item ')\n",
    "            grains = input('so pls enter your grains: ')\n",
    "            desserts.writerow(['','','',grains,'','','','',''])\n",
    "        elif ingre == 'nuts':\n",
    "            print('pls leave a spacebar after entering each nuts ')\n",
    "            nuts = input('so pls enter your nuts: ')\n",
    "            desserts.writerow(['','','','',nuts,'','','',''])\n",
    "        elif ingre == 'herbs':\n",
    "            print('pls leave a spacebar after entering each item ')\n",
    "            herbs = input('so pls enter your herbs: ')\n",
    "            desserts.writerow(['','','','','',herbs,'','',''])\n",
    "        elif ingre == 'spices':\n",
    "            print('pls leave a spacebar after entering each item ')\n",
    "            spices = input('so pls enter your spices: ')\n",
    "            desserts.writerow(['','','','','','',spices,'',''])\n",
    "        elif ingre == 'sauces':\n",
    "            print('pls leave a spacebar after entering each item ')\n",
    "            sauces = input('so pls enter your sauces: ')\n",
    "            desserts.writerow(['','','','','','','',sauces,''])\n",
    "        elif ingre == 'oils':\n",
    "            print('pls leave a spacebar after entering each item ')\n",
    "            oils = input('so pls enter your oils: ')\n",
    "            desserts.writerow(['','','','','','','','',oils])\n",
    "\n",
    "        \n",
    "    "
   ]
  },
  {
   "cell_type": "code",
   "execution_count": null,
   "id": "7d4dcdb4-8905-471e-a466-705d9c60cf8f",
   "metadata": {},
   "outputs": [],
   "source": [
    "starter = open('starter.csv','a+',encoding='utf-8')\n",
    "starter.write\n"
   ]
  },
  {
   "cell_type": "code",
   "execution_count": 1,
   "id": "e6cc27f1-6024-453f-b7a0-5d8c17421445",
   "metadata": {},
   "outputs": [],
   "source": [
    "import csv\n",
    "import pandas as p"
   ]
  },
  {
   "cell_type": "code",
   "execution_count": 3,
   "id": "cc362a1c-819b-4d5b-aeee-9451e556c6c8",
   "metadata": {},
   "outputs": [
    {
     "name": "stdout",
     "output_type": "stream",
     "text": [
      "             Recipe Name                                      Ingredients  \\\n",
      "0   Paneer Butter Masala            Paneer, butter, tomato, cream, spices   \n",
      "1          Chole Bhature          Chickpeas, flour, onion, tomato, spices   \n",
      "2            Masala Dosa             Rice, urad dal, potato, curry leaves   \n",
      "3                Biryani    Basmati rice, chicken/mutton, saffron, spices   \n",
      "4           Rajma Chawal  Kidney beans, rice, onion, tomato, garam masala   \n",
      "5           Aloo Paratha              Wheat flour, potato, butter, spices   \n",
      "6            Idli Sambar        Rice, urad dal, lentils, tamarind, spices   \n",
      "7         Butter Chicken     Chicken, tomato, cream, butter, garam masala   \n",
      "8              Pav Bhaji       Mixed vegetables, pav buns, butter, spices   \n",
      "9               Vada Pav     Potato, gram flour, pav buns, garlic chutney   \n",
      "10                 Pulao     Basmati rice, vegetables, ghee, whole spices   \n",
      "11                Samosa                 Potato, peas, flour, spices, oil   \n",
      "12      Tandoori Chicken         Chicken, yogurt, red chili, garam masala   \n",
      "13            Fish Curry       Fish, coconut milk, curry leaves, tamarind   \n",
      "14             Dal Tadka           Toor dal, onion, tomato, cumin, garlic   \n",
      "15                  Poha     Flattened rice, mustard, curry leaves, lemon   \n",
      "16                Dhokla         Gram flour, yogurt, mustard seeds, sugar   \n",
      "17              Rasgulla                    Chenna, sugar syrup, cardamom   \n",
      "18           Gulab Jamun                  Khoya, flour, sugar syrup, ghee   \n",
      "19             Pani Puri      Semolina, potato, tamarind water, chickpeas   \n",
      "\n",
      "           Region      Course Type  \n",
      "0    North Indian      Main Course  \n",
      "1         Punjabi  Breakfast/Lunch  \n",
      "2    South Indian        Breakfast  \n",
      "3      Hyderabadi      Main Course  \n",
      "4    North Indian            Lunch  \n",
      "5         Punjabi        Breakfast  \n",
      "6    South Indian        Breakfast  \n",
      "7         Punjabi      Main Course  \n",
      "8   Maharashtrian            Snack  \n",
      "9   Maharashtrian            Snack  \n",
      "10   North Indian            Lunch  \n",
      "11   North Indian            Snack  \n",
      "12        Punjabi          Starter  \n",
      "13         Kerala      Main Course  \n",
      "14   North Indian            Lunch  \n",
      "15  Maharashtrian        Breakfast  \n",
      "16       Gujarati            Snack  \n",
      "17        Bengali          Dessert  \n",
      "18   North Indian          Dessert  \n",
      "19    Street Food            Snack  \n"
     ]
    }
   ],
   "source": [
    "data = p.read_csv('indian_recipes.csv')\n",
    "print(data)\n"
   ]
  },
  {
   "cell_type": "code",
   "execution_count": 9,
   "id": "861a8c48-ff2c-4c09-8afc-ea0d126a976a",
   "metadata": {},
   "outputs": [
    {
     "name": "stdin",
     "output_type": "stream",
     "text": [
      "pls enter your item to search dosa\n"
     ]
    },
    {
     "name": "stdout",
     "output_type": "stream",
     "text": [
      "found your term\n",
      "['Masala Dosa', 'Rice, urad dal, potato, curry leaves', 'South Indian', 'Breakfast']\n"
     ]
    }
   ],
   "source": [
    "search =input('pls enter your item to search').lower()\n",
    "with open ('indian_recipes.csv','r',encoding='utf-8') as f:\n",
    "    read = csv.reader(f)\n",
    "    for row in read:\n",
    "        for cell in cloumn:\n",
    "            if search in cell.lower():\n",
    "                print('found your term')\n",
    "                \n",
    "            else:\n",
    "                pass"
   ]
  },
  {
   "cell_type": "code",
   "execution_count": 22,
   "id": "e8d0b078-21c0-4ef0-80f4-a370edd45348",
   "metadata": {},
   "outputs": [
    {
     "data": {
      "text/plain": [
       "False"
      ]
     },
     "execution_count": 22,
     "metadata": {},
     "output_type": "execute_result"
    }
   ],
   "source": [
    "'' in data"
   ]
  },
  {
   "cell_type": "code",
   "execution_count": null,
   "id": "95c46a15-a576-42d4-9cfb-d490f24fdb75",
   "metadata": {},
   "outputs": [],
   "source": [
    "u = input('chikitu chikitu chikitu vibe')\n",
    "if u == o:\n",
    "    print(u)\n",
    "else:\n",
    "    pass"
   ]
  },
  {
   "cell_type": "code",
   "execution_count": null,
   "id": "3d4117a8-198c-4918-b5c2-2992e30be1bc",
   "metadata": {},
   "outputs": [],
   "source": [
    "!pip install -U yt-dlp\n"
   ]
  },
  {
   "cell_type": "code",
   "execution_count": null,
   "id": "0ebea26f-a008-4f36-b410-4947cd5097a0",
   "metadata": {},
   "outputs": [],
   "source": [
    "veggies = input('pls enter your Oils/Fats: ')\n",
    "veg = veggies.split()\n",
    "l = []\n",
    "for v in veg:\n",
    "    l.append(v)"
   ]
  },
  {
   "cell_type": "code",
   "execution_count": 3,
   "id": "8a6192ea-fde7-4fe6-a6b7-366817fc3ede",
   "metadata": {},
   "outputs": [],
   "source": [
    "import os"
   ]
  },
  {
   "cell_type": "code",
   "execution_count": null,
   "id": "a4f09306-ee67-4792-81ca-378384b3e9bc",
   "metadata": {
    "scrolled": true
   },
   "outputs": [],
   "source": []
  },
  {
   "cell_type": "code",
   "execution_count": 13,
   "id": "8e9d2460-73d9-4c6a-b85c-cae86bbfa303",
   "metadata": {},
   "outputs": [],
   "source": [
    "os.startfile(\"C:\\\\Users\\\\sampa\\\\Downloads\\\\recipes_sample.xlsx\")\n",
    "search = input('pls input your term to search')\n",
    "file = open('recipes_sample.xlsx','a+',encoding='utf-8')\n",
    "\n"
   ]
  },
  {
   "cell_type": "code",
   "execution_count": 23,
   "id": "c93f342b-2078-473d-813c-8475854e8919",
   "metadata": {},
   "outputs": [
    {
     "name": "stdin",
     "output_type": "stream",
     "text": [
      "pls input your term to search masala\n"
     ]
    },
    {
     "name": "stdout",
     "output_type": "stream",
     "text": [
      "Not found\n"
     ]
    }
   ],
   "source": [
    "\n",
    "search = input('pls input your term to search')\n",
    "file = open('recipes_sample.xlsx','a+',encoding='utf-8')\n",
    "file\n",
    "if search in 'recipes_sample.xlsx':\n",
    "    print('yes its found')\n",
    "else:\n",
    "    print('Not found')\n",
    "file.close()"
   ]
  },
  {
   "cell_type": "code",
   "execution_count": null,
   "id": "d104cdb8-dda3-4779-a24b-445801980f49",
   "metadata": {},
   "outputs": [],
   "source": [
    "main_course_keywords = {\n",
    "    \"rice\": [\"biryani\", \"pulao\", \"fried rice\", \"khichdi\", \"curd rice\", \"jeera rice\",\"bread\",\"roti\", \"chapati\", \"naan\", \"paratha\", \"kulcha\", \"bhatura\", \"puri\",\"curries\",\"dal\", \"chicken curry\", \"mutton curry\", \"paneer butter masala\", \"chole\", \"rajma\", \"sambar\", \"fish curry\", \"korma\", \"egg curry\",\"noodles_pasta\",\"noodles\", \"chowmein\", \"ramen\", \"spaghetti\", \"pasta\", \"lasagna\",\"complete_meals\",\"thali\", \"dal chawal\", \"idli sambar\", \"dosa\", \"uttapam\", \"pongal\", \"upma\", \"kadhi chawal\", \"khichdi\",\"meat_dishes\",\"butter chicken\", \"tandoori chicken\", \"biryani\", \"mutton biryani\", \"kebabs (meal sized)\", \"fish fry with rice\",\"international\",\"pizza\", \"burger\", \"taco\", \"burrito\", \"quesadilla\", \"shawarma\", \"sushi (meal set)\", \"steak\", \"casserole\"]\n",
    "}"
   ]
  },
  {
   "cell_type": "code",
   "execution_count": null,
   "id": "248025c7-3535-4c9b-bc22-9f703f1194be",
   "metadata": {},
   "outputs": [],
   "source": [
    "lis = [\"fsf\",\"gg\"]\n",
    "pis = ['fe','gg']\n",
    "b=[]\n",
    "for l in lis:\n",
    "    for p in pis:\n",
    "        if l==p:\n",
    "            b.append(l)\n",
    "            if len(b)==1:\n",
    "                print(b)\n",
    "            print(p)\n",
    "        else:\n",
    "            pass"
   ]
  },
  {
   "cell_type": "code",
   "execution_count": null,
   "id": "c14e8c56-a641-48ed-9361-8f2d8b7ea62c",
   "metadata": {},
   "outputs": [],
   "source": [
    "t = input('')\n",
    "sp = t.split()\n",
    "print(sp)\n",
    "s = []\n",
    "s.append(sp)\n",
    "print(s)"
   ]
  },
  {
   "cell_type": "code",
   "execution_count": 195,
   "id": "f34b0962-eb47-4909-b5da-800a6325ec22",
   "metadata": {},
   "outputs": [
    {
     "name": "stdin",
     "output_type": "stream",
     "text": [
      "pls e\n",
      "pls2 e\n"
     ]
    }
   ],
   "source": [
    "while True:\n",
    "    while True:\n",
    "        p= input('pls')\n",
    "        if p== 'e':\n",
    "            break\n",
    "    e=input('pls2')\n",
    "    if e=='e':\n",
    "        break"
   ]
  },
  {
   "cell_type": "code",
   "execution_count": null,
   "id": "477fe72d-eeb8-4852-a510-7a23ed5dfb9d",
   "metadata": {},
   "outputs": [],
   "source": []
  }
 ],
 "metadata": {
  "kernelspec": {
   "display_name": "Python [conda env:base] *",
   "language": "python",
   "name": "conda-base-py"
  },
  "language_info": {
   "codemirror_mode": {
    "name": "ipython",
    "version": 3
   },
   "file_extension": ".py",
   "mimetype": "text/x-python",
   "name": "python",
   "nbconvert_exporter": "python",
   "pygments_lexer": "ipython3",
   "version": "3.12.4"
  }
 },
 "nbformat": 4,
 "nbformat_minor": 5
}
